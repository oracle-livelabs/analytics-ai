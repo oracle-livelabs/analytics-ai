{
 "cells": [
  {
   "cell_type": "markdown",
   "id": "26710120",
   "metadata": {},
   "source": [
    "# Prepare the dataset\n",
    "\n",
    "Since the dataset is large, we can take only a small subset and try to run our tuning on it first.\n",
    "\n",
    "`Make sure` that you've downloaded and unzipped the RecipeNLP dataset from: https://recipenlg.cs.put.poznan.pl/"
   ]
  },
  {
   "cell_type": "code",
   "execution_count": 1,
   "id": "c844029b",
   "metadata": {},
   "outputs": [],
   "source": [
    "import random\n",
    "import pandas as pd\n",
    "import random\n",
    "from sklearn.model_selection import train_test_split\n",
    "\n",
    "random.seed(4321)\n",
    "\n",
    "# select only 5% of all rows in the dataset\n",
    "df = pd.read_csv('dataset/full_dataset.csv', \n",
    "           skiprows=lambda x: x > 0 and random.random() >=0.05)\n",
    "\n",
    "\n",
    "# Split the selected data into a training set and a test set\n",
    "train_df, test_df = train_test_split(df, test_size=0.2, random_state=42)\n",
    "\n",
    "# Write the test set to a test CSV file\n",
    "test_df.to_csv('test_recipes_001.csv', index=False)\n",
    "\n",
    "# Write the remaining data to the train CSV file\n",
    "train_df.to_csv('train_recipes_001.csv', index=False)"
   ]
  },
  {
   "cell_type": "code",
   "execution_count": 2,
   "id": "98e2a7a1",
   "metadata": {},
   "outputs": [
    {
     "name": "stdout",
     "output_type": "stream",
     "text": [
      "(89308, 7)\n"
     ]
    }
   ],
   "source": [
    "print(train_df.shape)"
   ]
  },
  {
   "cell_type": "code",
   "execution_count": 3,
   "id": "ab83a6c2",
   "metadata": {},
   "outputs": [
    {
     "name": "stdout",
     "output_type": "stream",
     "text": [
      "(22328, 7)\n"
     ]
    }
   ],
   "source": [
    "print(test_df.shape)"
   ]
  },
  {
   "cell_type": "code",
   "execution_count": 4,
   "id": "af5ff122",
   "metadata": {},
   "outputs": [
    {
     "data": {
      "text/plain": [
       "(89308, 7)"
      ]
     },
     "execution_count": 4,
     "metadata": {},
     "output_type": "execute_result"
    }
   ],
   "source": [
    "data = pd.read_csv('train_recipes_001.csv')\n",
    "data.shape"
   ]
  },
  {
   "cell_type": "code",
   "execution_count": 5,
   "id": "f5afcc33",
   "metadata": {},
   "outputs": [
    {
     "data": {
      "text/plain": [
       "(22328, 7)"
      ]
     },
     "execution_count": 5,
     "metadata": {},
     "output_type": "execute_result"
    }
   ],
   "source": [
    "data = pd.read_csv('test_recipes_001.csv')\n",
    "data.shape"
   ]
  },
  {
   "cell_type": "code",
   "execution_count": 6,
   "id": "64227919",
   "metadata": {},
   "outputs": [
    {
     "data": {
      "text/html": [
       "<div>\n",
       "<style scoped>\n",
       "    .dataframe tbody tr th:only-of-type {\n",
       "        vertical-align: middle;\n",
       "    }\n",
       "\n",
       "    .dataframe tbody tr th {\n",
       "        vertical-align: top;\n",
       "    }\n",
       "\n",
       "    .dataframe thead th {\n",
       "        text-align: right;\n",
       "    }\n",
       "</style>\n",
       "<table border=\"1\" class=\"dataframe\">\n",
       "  <thead>\n",
       "    <tr style=\"text-align: right;\">\n",
       "      <th></th>\n",
       "      <th>Unnamed: 0</th>\n",
       "      <th>title</th>\n",
       "      <th>ingredients</th>\n",
       "      <th>directions</th>\n",
       "      <th>link</th>\n",
       "      <th>source</th>\n",
       "      <th>NER</th>\n",
       "    </tr>\n",
       "  </thead>\n",
       "  <tbody>\n",
       "    <tr>\n",
       "      <th>0</th>\n",
       "      <td>53558</td>\n",
       "      <td>Fresh Hot Salsa</td>\n",
       "      <td>[\"2 Tbsp. olive oil or cooking oil\", \"1 large ...</td>\n",
       "      <td>[\"In a large frypan or Dutch oven sweat onion ...</td>\n",
       "      <td>www.cookbooks.com/Recipe-Details.aspx?id=191228</td>\n",
       "      <td>Gathered</td>\n",
       "      <td>[\"olive oil\", \"onion\", \"garlic\", \"green bell p...</td>\n",
       "    </tr>\n",
       "    <tr>\n",
       "      <th>1</th>\n",
       "      <td>362288</td>\n",
       "      <td>Brunswick Stew</td>\n",
       "      <td>[\"1 small hen or large fryer, cut into pieces\"...</td>\n",
       "      <td>[\"Place chicken and meats into pot and cover w...</td>\n",
       "      <td>www.cookbooks.com/Recipe-Details.aspx?id=245240</td>\n",
       "      <td>Gathered</td>\n",
       "      <td>[\"hen\", \"fresh lean pork\", \"stew beef\", \"tomat...</td>\n",
       "    </tr>\n",
       "    <tr>\n",
       "      <th>2</th>\n",
       "      <td>2071876</td>\n",
       "      <td>Chinese Risotto with Shiitake Mushrooms</td>\n",
       "      <td>[\"1 tablespoon sesame oil\", \"2 teaspoons jalap...</td>\n",
       "      <td>[\"Heat 1 tablespoon sesame oil in heavy medium...</td>\n",
       "      <td>recipeland.com/recipe/v/chinese-risotto-shiita...</td>\n",
       "      <td>Recipes1M</td>\n",
       "      <td>[\"sesame oil\", \"jalapeno pepper\", \"garlic\", \"s...</td>\n",
       "    </tr>\n",
       "  </tbody>\n",
       "</table>\n",
       "</div>"
      ],
      "text/plain": [
       "   Unnamed: 0                                    title  \\\n",
       "0       53558                          Fresh Hot Salsa   \n",
       "1      362288                           Brunswick Stew   \n",
       "2     2071876  Chinese Risotto with Shiitake Mushrooms   \n",
       "\n",
       "                                         ingredients  \\\n",
       "0  [\"2 Tbsp. olive oil or cooking oil\", \"1 large ...   \n",
       "1  [\"1 small hen or large fryer, cut into pieces\"...   \n",
       "2  [\"1 tablespoon sesame oil\", \"2 teaspoons jalap...   \n",
       "\n",
       "                                          directions  \\\n",
       "0  [\"In a large frypan or Dutch oven sweat onion ...   \n",
       "1  [\"Place chicken and meats into pot and cover w...   \n",
       "2  [\"Heat 1 tablespoon sesame oil in heavy medium...   \n",
       "\n",
       "                                                link     source  \\\n",
       "0    www.cookbooks.com/Recipe-Details.aspx?id=191228   Gathered   \n",
       "1    www.cookbooks.com/Recipe-Details.aspx?id=245240   Gathered   \n",
       "2  recipeland.com/recipe/v/chinese-risotto-shiita...  Recipes1M   \n",
       "\n",
       "                                                 NER  \n",
       "0  [\"olive oil\", \"onion\", \"garlic\", \"green bell p...  \n",
       "1  [\"hen\", \"fresh lean pork\", \"stew beef\", \"tomat...  \n",
       "2  [\"sesame oil\", \"jalapeno pepper\", \"garlic\", \"s...  "
      ]
     },
     "execution_count": 6,
     "metadata": {},
     "output_type": "execute_result"
    }
   ],
   "source": [
    "data.head(3)"
   ]
  },
  {
   "cell_type": "code",
   "execution_count": null,
   "id": "0971c99a",
   "metadata": {},
   "outputs": [],
   "source": []
  }
 ],
 "metadata": {
  "kernelspec": {
   "display_name": "Python [conda env:pytorch110_p38_gpu_v1]",
   "language": "python",
   "name": "conda-env-pytorch110_p38_gpu_v1-py"
  },
  "language_info": {
   "codemirror_mode": {
    "name": "ipython",
    "version": 3
   },
   "file_extension": ".py",
   "mimetype": "text/x-python",
   "name": "python",
   "nbconvert_exporter": "python",
   "pygments_lexer": "ipython3",
   "version": "3.8.13"
  }
 },
 "nbformat": 4,
 "nbformat_minor": 5
}
