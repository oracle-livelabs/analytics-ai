{
 "cells": [
  {
   "cell_type": "markdown",
   "id": "69ab9b57",
   "metadata": {},
   "source": [
    "### Clean the Recipes Dataset\n",
    "\n",
    "To train our model we have to prepare and clean the dataset."
   ]
  },
  {
   "cell_type": "markdown",
   "id": "b7ce756e",
   "metadata": {},
   "source": [
    "#### We are going to get only the recommended \"Gathered\" entries from the dataset."
   ]
  },
  {
   "cell_type": "code",
   "execution_count": 1,
   "id": "a1619000",
   "metadata": {},
   "outputs": [],
   "source": [
    "import pandas as pd\n",
    "\n",
    "# Load the CSV file into a pandas DataFrame\n",
    "df_train = pd.read_csv('train_recipes_001.csv')\n",
    "df_test = pd.read_csv('test_recipes_001.csv')"
   ]
  },
  {
   "cell_type": "code",
   "execution_count": 2,
   "id": "0376d36a",
   "metadata": {},
   "outputs": [],
   "source": [
    "df_train = df_train[df_train['source'] == 'Gathered']\n",
    "df_test = df_test[df_test['source'] == 'Gathered']"
   ]
  },
  {
   "cell_type": "code",
   "execution_count": 3,
   "id": "6d964867",
   "metadata": {},
   "outputs": [],
   "source": [
    "# Clean the train dataset\n",
    "df_train['directions'] = df_train['directions'].str.replace('[\\[\\],\"]', '', regex=True)\n",
    "df_train['NER'] = df_train['NER'].str.replace('[\\[\\]\"]', '', regex=True)\n",
    "df_train['ingredients'] = df_train['ingredients'].str.replace('[\\[\\]\"]', '', regex=True)\n",
    "\n",
    "# Clean the test dataset\n",
    "df_test['directions'] = df_test['directions'].str.replace('[\\[\\],\"]', '', regex=True)\n",
    "df_test['NER'] = df_test['NER'].str.replace('[\\[\\]\"]', '', regex=True)\n",
    "df_test['ingredients'] = df_test['ingredients'].str.replace('[\\[\\]\"]', '', regex=True)"
   ]
  },
  {
   "cell_type": "code",
   "execution_count": 4,
   "id": "75ed2e59",
   "metadata": {},
   "outputs": [],
   "source": [
    "# merge now all into one to be used for the label later\n",
    "# f\"title: {title} <section> ingredients: {ingredients} <section> directions: {steps}\"\n",
    "df_train['merged_text'] = 'title: ' + df_train['title'] + ' ' + 'ingredients: ' + df_train['ingredients'] + ' ' + 'directions: ' + df_train['directions']\n",
    "df_test['merged_text'] = 'title: ' + df_test['title'] + ' ' + 'ingredients: ' + df_test['ingredients'] + ' ' + 'directions: ' + df_test['directions']"
   ]
  },
  {
   "cell_type": "code",
   "execution_count": 5,
   "id": "f93947fb",
   "metadata": {},
   "outputs": [],
   "source": [
    "# Drop the columns we don't need anymore\n",
    "columns_to_drop = ['Unnamed: 0', 'title', 'ingredients', 'directions', 'link', 'source']\n",
    "\n",
    "# Drop the columns (if they exist)\n",
    "for column_name in columns_to_drop:\n",
    "    if column_name in df_train.columns:\n",
    "        df_train = df_train.drop(column_name, axis=1)\n",
    "    if column_name in df_test.columns:\n",
    "        df_test = df_test.drop(column_name, axis=1)"
   ]
  },
  {
   "cell_type": "code",
   "execution_count": 6,
   "id": "8c68f47a",
   "metadata": {},
   "outputs": [],
   "source": [
    "# Save the cleaned DataFrame to a new CSV file\n",
    "df_train.to_csv('train_recipes.002.clean.csv', index=False)\n",
    "df_test.to_csv('test_recipes.002.clean.csv', index=False)"
   ]
  },
  {
   "cell_type": "code",
   "execution_count": 7,
   "id": "f99bcb68",
   "metadata": {},
   "outputs": [
    {
     "data": {
      "text/plain": [
       "(65781, 2)"
      ]
     },
     "execution_count": 7,
     "metadata": {},
     "output_type": "execute_result"
    }
   ],
   "source": [
    "data = pd.read_csv('train_recipes.002.clean.csv')\n",
    "data.shape"
   ]
  },
  {
   "cell_type": "code",
   "execution_count": 8,
   "id": "fa9f6b31",
   "metadata": {},
   "outputs": [
    {
     "data": {
      "text/html": [
       "<div>\n",
       "<style scoped>\n",
       "    .dataframe tbody tr th:only-of-type {\n",
       "        vertical-align: middle;\n",
       "    }\n",
       "\n",
       "    .dataframe tbody tr th {\n",
       "        vertical-align: top;\n",
       "    }\n",
       "\n",
       "    .dataframe thead th {\n",
       "        text-align: right;\n",
       "    }\n",
       "</style>\n",
       "<table border=\"1\" class=\"dataframe\">\n",
       "  <thead>\n",
       "    <tr style=\"text-align: right;\">\n",
       "      <th></th>\n",
       "      <th>NER</th>\n",
       "      <th>merged_text</th>\n",
       "    </tr>\n",
       "  </thead>\n",
       "  <tbody>\n",
       "    <tr>\n",
       "      <th>0</th>\n",
       "      <td>lemon juice, milk, vanilla, graham cracker cru...</td>\n",
       "      <td>title: Cherry Cheese Cake ingredients: 1/3 c. ...</td>\n",
       "    </tr>\n",
       "    <tr>\n",
       "      <th>1</th>\n",
       "      <td>white vinegar</td>\n",
       "      <td>title: Homemade (Scented) Fabric Softener ingr...</td>\n",
       "    </tr>\n",
       "    <tr>\n",
       "      <th>2</th>\n",
       "      <td>yeast, shortening, potatoes, sugar, salt, brea...</td>\n",
       "      <td>title: Potato Bread ingredients: 1 1/2 pkg. ye...</td>\n",
       "    </tr>\n",
       "  </tbody>\n",
       "</table>\n",
       "</div>"
      ],
      "text/plain": [
       "                                                 NER  \\\n",
       "0  lemon juice, milk, vanilla, graham cracker cru...   \n",
       "1                                      white vinegar   \n",
       "2  yeast, shortening, potatoes, sugar, salt, brea...   \n",
       "\n",
       "                                         merged_text  \n",
       "0  title: Cherry Cheese Cake ingredients: 1/3 c. ...  \n",
       "1  title: Homemade (Scented) Fabric Softener ingr...  \n",
       "2  title: Potato Bread ingredients: 1 1/2 pkg. ye...  "
      ]
     },
     "execution_count": 8,
     "metadata": {},
     "output_type": "execute_result"
    }
   ],
   "source": [
    "data.head(3)"
   ]
  },
  {
   "cell_type": "code",
   "execution_count": 9,
   "id": "4cda7dba",
   "metadata": {},
   "outputs": [
    {
     "data": {
      "text/html": [
       "<div>\n",
       "<style scoped>\n",
       "    .dataframe tbody tr th:only-of-type {\n",
       "        vertical-align: middle;\n",
       "    }\n",
       "\n",
       "    .dataframe tbody tr th {\n",
       "        vertical-align: top;\n",
       "    }\n",
       "\n",
       "    .dataframe thead th {\n",
       "        text-align: right;\n",
       "    }\n",
       "</style>\n",
       "<table border=\"1\" class=\"dataframe\">\n",
       "  <thead>\n",
       "    <tr style=\"text-align: right;\">\n",
       "      <th></th>\n",
       "      <th>NER</th>\n",
       "      <th>merged_text</th>\n",
       "    </tr>\n",
       "  </thead>\n",
       "  <tbody>\n",
       "    <tr>\n",
       "      <th>0</th>\n",
       "      <td>lemon juice, milk, vanilla, graham cracker cru...</td>\n",
       "      <td>title: Cherry Cheese Cake ingredients: 1/3 c. ...</td>\n",
       "    </tr>\n",
       "    <tr>\n",
       "      <th>1</th>\n",
       "      <td>white vinegar</td>\n",
       "      <td>title: Homemade (Scented) Fabric Softener ingr...</td>\n",
       "    </tr>\n",
       "    <tr>\n",
       "      <th>2</th>\n",
       "      <td>yeast, shortening, potatoes, sugar, salt, brea...</td>\n",
       "      <td>title: Potato Bread ingredients: 1 1/2 pkg. ye...</td>\n",
       "    </tr>\n",
       "    <tr>\n",
       "      <th>3</th>\n",
       "      <td>water, whole cloves, cinnamon, sugar, orange j...</td>\n",
       "      <td>title: Russian Tea ingredients: 1 gal. water, ...</td>\n",
       "    </tr>\n",
       "    <tr>\n",
       "      <th>4</th>\n",
       "      <td>grape tomatoes, garlic, red onion, carrot, sca...</td>\n",
       "      <td>title: “Light” Bolognese Sauce With Fettuccine...</td>\n",
       "    </tr>\n",
       "    <tr>\n",
       "      <th>5</th>\n",
       "      <td>any white fish, water, cider, salt, butter</td>\n",
       "      <td>title: Poor Mary Lobster ingredients: 2 lb. an...</td>\n",
       "    </tr>\n",
       "    <tr>\n",
       "      <th>6</th>\n",
       "      <td>ground beef, cheddar cheese, onion soup mix, m...</td>\n",
       "      <td>title: Mini Beef Rolls ingredients: 1 pound gr...</td>\n",
       "    </tr>\n",
       "    <tr>\n",
       "      <th>7</th>\n",
       "      <td>lemon cake, sugar, oil, sour cream, eggs</td>\n",
       "      <td>title: Poppy Seed Cake ingredients: 1 pkg. yel...</td>\n",
       "    </tr>\n",
       "    <tr>\n",
       "      <th>8</th>\n",
       "      <td>bread, Mozzarella cheese, butter, garlic chips</td>\n",
       "      <td>title: Cheesy Bread ingredients: 1 loaf French...</td>\n",
       "    </tr>\n",
       "    <tr>\n",
       "      <th>9</th>\n",
       "      <td>mustard, apple cider vinegar, water, sugar, sa...</td>\n",
       "      <td>title: Pickled Eggs ingredients: 2 Tbsp. prepa...</td>\n",
       "    </tr>\n",
       "  </tbody>\n",
       "</table>\n",
       "</div>"
      ],
      "text/plain": [
       "                                                 NER  \\\n",
       "0  lemon juice, milk, vanilla, graham cracker cru...   \n",
       "1                                      white vinegar   \n",
       "2  yeast, shortening, potatoes, sugar, salt, brea...   \n",
       "3  water, whole cloves, cinnamon, sugar, orange j...   \n",
       "4  grape tomatoes, garlic, red onion, carrot, sca...   \n",
       "5         any white fish, water, cider, salt, butter   \n",
       "6  ground beef, cheddar cheese, onion soup mix, m...   \n",
       "7           lemon cake, sugar, oil, sour cream, eggs   \n",
       "8     bread, Mozzarella cheese, butter, garlic chips   \n",
       "9  mustard, apple cider vinegar, water, sugar, sa...   \n",
       "\n",
       "                                         merged_text  \n",
       "0  title: Cherry Cheese Cake ingredients: 1/3 c. ...  \n",
       "1  title: Homemade (Scented) Fabric Softener ingr...  \n",
       "2  title: Potato Bread ingredients: 1 1/2 pkg. ye...  \n",
       "3  title: Russian Tea ingredients: 1 gal. water, ...  \n",
       "4  title: “Light” Bolognese Sauce With Fettuccine...  \n",
       "5  title: Poor Mary Lobster ingredients: 2 lb. an...  \n",
       "6  title: Mini Beef Rolls ingredients: 1 pound gr...  \n",
       "7  title: Poppy Seed Cake ingredients: 1 pkg. yel...  \n",
       "8  title: Cheesy Bread ingredients: 1 loaf French...  \n",
       "9  title: Pickled Eggs ingredients: 2 Tbsp. prepa...  "
      ]
     },
     "execution_count": 9,
     "metadata": {},
     "output_type": "execute_result"
    }
   ],
   "source": [
    "data[:10]"
   ]
  },
  {
   "cell_type": "code",
   "execution_count": null,
   "id": "d2e09ffb",
   "metadata": {},
   "outputs": [],
   "source": []
  }
 ],
 "metadata": {
  "kernelspec": {
   "display_name": "Python [conda env:pytorch110_p38_gpu_v1]",
   "language": "python",
   "name": "conda-env-pytorch110_p38_gpu_v1-py"
  },
  "language_info": {
   "codemirror_mode": {
    "name": "ipython",
    "version": 3
   },
   "file_extension": ".py",
   "mimetype": "text/x-python",
   "name": "python",
   "nbconvert_exporter": "python",
   "pygments_lexer": "ipython3",
   "version": "3.8.13"
  }
 },
 "nbformat": 4,
 "nbformat_minor": 5
}
