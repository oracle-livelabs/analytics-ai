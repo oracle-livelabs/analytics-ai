{
 "cells": [
  {
   "cell_type": "markdown",
   "id": "c3ad81f7",
   "metadata": {},
   "source": [
    "# Let's Tokenize the Dataset\n",
    "\n",
    "To finetune our model, we have to tokenize the dataset."
   ]
  },
  {
   "cell_type": "code",
   "execution_count": 1,
   "id": "c0260d5b",
   "metadata": {},
   "outputs": [
    {
     "name": "stdout",
     "output_type": "stream",
     "text": [
      "Downloading and preparing dataset csv/default to /home/datascience/.cache/huggingface/datasets/csv/default-bd1c3389059bfc2b/0.0.0/6954658bab30a358235fa864b05cf819af0e179325c740e4bc853bcc7ec513e1...\n"
     ]
    },
    {
     "data": {
      "application/vnd.jupyter.widget-view+json": {
       "model_id": "9dda41bbe94f4c8da18cad1b41c9eaa8",
       "version_major": 2,
       "version_minor": 0
      },
      "text/plain": [
       "Downloading data files:   0%|          | 0/2 [00:00<?, ?it/s]"
      ]
     },
     "metadata": {},
     "output_type": "display_data"
    },
    {
     "data": {
      "application/vnd.jupyter.widget-view+json": {
       "model_id": "de3077e6b752426ea25b3ab16a642f47",
       "version_major": 2,
       "version_minor": 0
      },
      "text/plain": [
       "Extracting data files:   0%|          | 0/2 [00:00<?, ?it/s]"
      ]
     },
     "metadata": {},
     "output_type": "display_data"
    },
    {
     "data": {
      "application/vnd.jupyter.widget-view+json": {
       "model_id": "",
       "version_major": 2,
       "version_minor": 0
      },
      "text/plain": [
       "Generating train split: 0 examples [00:00, ? examples/s]"
      ]
     },
     "metadata": {},
     "output_type": "display_data"
    },
    {
     "data": {
      "application/vnd.jupyter.widget-view+json": {
       "model_id": "",
       "version_major": 2,
       "version_minor": 0
      },
      "text/plain": [
       "Generating test split: 0 examples [00:00, ? examples/s]"
      ]
     },
     "metadata": {},
     "output_type": "display_data"
    },
    {
     "name": "stdout",
     "output_type": "stream",
     "text": [
      "Dataset csv downloaded and prepared to /home/datascience/.cache/huggingface/datasets/csv/default-bd1c3389059bfc2b/0.0.0/6954658bab30a358235fa864b05cf819af0e179325c740e4bc853bcc7ec513e1. Subsequent calls will reuse this data.\n"
     ]
    },
    {
     "data": {
      "application/vnd.jupyter.widget-view+json": {
       "model_id": "a95e20e6854d49129561177b3fd97294",
       "version_major": 2,
       "version_minor": 0
      },
      "text/plain": [
       "  0%|          | 0/2 [00:00<?, ?it/s]"
      ]
     },
     "metadata": {},
     "output_type": "display_data"
    }
   ],
   "source": [
    "from datasets import load_dataset\n",
    "dataset = load_dataset('csv', data_files={'train': \"train_recipes.002.clean.csv\",'test': \"test_recipes.002.clean.csv\"})"
   ]
  },
  {
   "cell_type": "code",
   "execution_count": 2,
   "id": "3bef7919",
   "metadata": {},
   "outputs": [
    {
     "data": {
      "text/plain": [
       "{'train': (65781, 2), 'test': (16609, 2)}"
      ]
     },
     "execution_count": 2,
     "metadata": {},
     "output_type": "execute_result"
    }
   ],
   "source": [
    "dataset.shape"
   ]
  },
  {
   "cell_type": "code",
   "execution_count": 3,
   "id": "6efdca53",
   "metadata": {},
   "outputs": [],
   "source": [
    "# let's shuffle and get smaller subset for quicker training\n",
    "small_train_dataset = dataset[\"train\"].shuffle(seed=42).select(range(5000))\n",
    "small_eval_dataset = dataset[\"test\"].shuffle(seed=42).select(range(500))"
   ]
  },
  {
   "cell_type": "code",
   "execution_count": 4,
   "id": "dd456db6",
   "metadata": {},
   "outputs": [
    {
     "data": {
      "text/plain": [
       "(5000, 2)"
      ]
     },
     "execution_count": 4,
     "metadata": {},
     "output_type": "execute_result"
    }
   ],
   "source": [
    "small_train_dataset.shape"
   ]
  },
  {
   "cell_type": "code",
   "execution_count": 5,
   "id": "cb5fc318",
   "metadata": {},
   "outputs": [
    {
     "data": {
      "text/plain": [
       "(500, 2)"
      ]
     },
     "execution_count": 5,
     "metadata": {},
     "output_type": "execute_result"
    }
   ],
   "source": [
    "small_eval_dataset.shape"
   ]
  },
  {
   "cell_type": "code",
   "execution_count": 6,
   "id": "fb6bf193",
   "metadata": {},
   "outputs": [],
   "source": [
    "train_dataset = small_train_dataset\n",
    "val_dataset = small_eval_dataset"
   ]
  },
  {
   "cell_type": "code",
   "execution_count": 7,
   "id": "252c8b57",
   "metadata": {},
   "outputs": [
    {
     "data": {
      "text/plain": [
       "(5000, 2)"
      ]
     },
     "execution_count": 7,
     "metadata": {},
     "output_type": "execute_result"
    }
   ],
   "source": [
    "train_dataset.shape"
   ]
  },
  {
   "cell_type": "code",
   "execution_count": 8,
   "id": "5f530e6c",
   "metadata": {},
   "outputs": [
    {
     "data": {
      "text/plain": [
       "(500, 2)"
      ]
     },
     "execution_count": 8,
     "metadata": {},
     "output_type": "execute_result"
    }
   ],
   "source": [
    "val_dataset.shape"
   ]
  },
  {
   "cell_type": "code",
   "execution_count": 9,
   "id": "6640f96d",
   "metadata": {},
   "outputs": [
    {
     "data": {
      "text/plain": [
       "'Salt, Pepper, FILLING, Olive Oil, Sausage, Fresh Spinach Leaves, Eggs, Egg Whites, Coconut Milk, Colby Cheese, Salt, Pepper, Hot Sauce, Green Onions'"
      ]
     },
     "execution_count": 9,
     "metadata": {},
     "output_type": "execute_result"
    }
   ],
   "source": [
    "train_dataset[10]['NER']"
   ]
  },
  {
   "cell_type": "code",
   "execution_count": 10,
   "id": "101ce884",
   "metadata": {},
   "outputs": [
    {
     "data": {
      "text/plain": [
       "\"title: Country Breakfast Skillet Quiche With Spaghetti Squash Crust ingredients: FOR THE CRUST:, 1 Large Spaghetti Squash, 1/2 teaspoons Salt, 1/8 teaspoons Pepper, FOR THE FILLING:, 1 teaspoon Olive Oil, 16 ounces, weight Pork Sausage, 3 cups Fresh Spinach Leaves, 4 Eggs, 5 Egg Whites, 1 cup Coconut Milk, Unsweetened, 1 cup Shredded Colby Cheese, 1/2 teaspoons Salt, 1/8 teaspoons Pepper, Hot Sauce, Optional, 4 Green Onions, Sliced, Optional For Garnish directions: Make the sausage before starting on the crust. Add the oil into a 10\\\\ cast iron skillet and heat over medium heat. Add sausage and break it into pieces while it cooks. Brown completely. Drain grease. Spoon sausage into a medium-sized bowl and set aside. Don't wipe out the skillet! For the crust: Put the spaghetti squash in a large microwavable bowl. Prick the squash all over with a fork. Microwave on high for 15 minutes. Be careful removing it from the microwave because there will be very hot juice from the squash in the bowl. Let it cool slightly on the counter. Preheat oven to 425 F. Place the squash on a cutting board and slice it in half. Scoop out the seeds and discard them. With a fork shred the squash flesh. Discard the outer shell. Place the shredded squash in a strainer in the sink and push out as much juice as you can. Spoon the squash onto an old kitchen towel fold it up and squeeze over the sink. Get as much juice out as possible. Place squash in a bowl. Mix in the salt and pepper. Press the squash into the skillet you used to brown the sausage covering the bottom of the skillet. Bake for 15 minutes or until edges are slightly brown. Remove from oven and let it cool. Reduce oven to 325 F. Spray a non-stick pan with cooking spray and warm it to medium heat. Add the spinach and cook until it is wilted about 2-3 minutes. Add the cooked sausage and mix together. Remove from heat. Let it cool. In a large bowl mix together the eggs egg whites milk cheese salt and pepper. Stir in sausage and spinach. Pour over the baked spaghetti squash crust. Bake for about 45 minutes or until eggs are set. Optional: Sprinkle drops of hot sauce over each wedge and top with a few chopped green onions. I love my cast iron skillets!\""
      ]
     },
     "execution_count": 10,
     "metadata": {},
     "output_type": "execute_result"
    }
   ],
   "source": [
    "train_dataset[10]['merged_text']"
   ]
  },
  {
   "cell_type": "code",
   "execution_count": 11,
   "id": "eb771b27",
   "metadata": {},
   "outputs": [
    {
     "data": {
      "text/plain": [
       "{'NER': ['olive oil, white wine, onion flakes, lemon, garlic, thyme, rosemary, ground sage, marjoram, salt, ground black pepper, hot pepper, chicken',\n",
       "  'Butter, flour, milk, tuna, eggs',\n",
       "  'condensed milk, lemon juice, whipped cream, peaches, cake'],\n",
       " 'merged_text': [\"title: Roasted Bone-In Chicken Breasts With Herbs ingredients: 3 tablespoons olive oil, 1/2 cup white wine, 1 tablespoon dried onion flakes, 1 lemon, zested, 1 fresh garlic clove, 1 teaspoon dried thyme, 1/2 teaspoon dried rosemary, crushed, 1/4 teaspoon ground sage, 1/4 teaspoon dried marjoram, 1/2 teaspoon salt, 1/2 teaspoon ground black pepper, 1/8 teaspoon hot pepper sauce, 2 chicken breast halves, bone-in with skin directions: Preheat oven to 425 degrees. In the baking dish you are going to use prepare the sauce/marinade by combining all of the ingredients. NOTE: you can also use a good poultry seasoning that isn't completely ground in place of the rosemary sage and marjoram since these are usually in this mix. If you use a poultry seasoning use 1& 1/2 teaspoons. Poke the chicken breasts several times to allow the seasoning to enter the meat through the skin. Put the chicken breasts in sauce and turn several times to coat thoroughly. Place skin side down (breast down) in a shallow baking dish and cover with foil. Bake the breasts for 15 minutes and baste the chicken regularly during this time the pan drippings. Remove the foil flip to breast/skin side up. Continue baking another 20 - 30 minutes OR until the chicken juices run clear. This will help crisp up the skin. Serve the chicken some of the pan juices as a sauce.\",\n",
       "  'title: Cream Eggs And Tuna On Toast ingredients: Butter (cube), 8 tsp. flour, 4 c. milk, 2 cans tuna, 12 eggs, toast directions: Boil eggs. Crack and smash eggs. Melt butter add flour. Stir until thickens. Add milk stir. Add tuna. Add the eggs. Stir until thickens. Put on toast.',\n",
       "  'title: Peach Chiffon ingredients: 1 (8 ounce) can sweetened condensed milk, 1/3 cup lemon juice, 1 cup whipped cream, 2 quarts peaches, fresh sliced, 10 ounces angel food cake directions: Beat condensed milk with lemon juice until thick. Fold in 1 cup whipped cream may use cool whip if you prefer. Fold in sliced peaches. Chill 1 -2 hours. Serve over angel food cake slices.']}"
      ]
     },
     "execution_count": 11,
     "metadata": {},
     "output_type": "execute_result"
    }
   ],
   "source": [
    "train_dataset[:3]"
   ]
  },
  {
   "cell_type": "code",
   "execution_count": 12,
   "id": "7e26975c",
   "metadata": {},
   "outputs": [
    {
     "data": {
      "text/plain": [
       "{'NER': 'onion, soy sauce, rice vinegar, water, sugar, salt, freshly ground black pepper, sesame oil',\n",
       " 'merged_text': 'title: Japanese Salad Dressing  ingredients: 1/4 cup finely chopped onion, 2 Tbsp. plus 2 teaspoons soy sauce, 1 Tbsp. rice vinegar, 2 teaspoons water, 1/2 teaspoon granulated sugar, A pinch sea salt, A pinch freshly ground black pepper, 4 teaspoons sesame oil directions: Combine all the ingredients except the oil. When the salt is fully dissolved add oil.'}"
      ]
     },
     "execution_count": 12,
     "metadata": {},
     "output_type": "execute_result"
    }
   ],
   "source": [
    "val_dataset[10]"
   ]
  },
  {
   "cell_type": "code",
   "execution_count": null,
   "id": "e7ea9a95",
   "metadata": {},
   "outputs": [],
   "source": []
  },
  {
   "cell_type": "code",
   "execution_count": 13,
   "id": "ab2be3c7",
   "metadata": {},
   "outputs": [],
   "source": [
    "from transformers import T5ForConditionalGeneration, T5Tokenizer, T5Config, TrainingArguments, Trainer\n",
    "\n",
    "tokenizer = T5Tokenizer.from_pretrained('t5-base', model_max_length=512)"
   ]
  },
  {
   "cell_type": "code",
   "execution_count": 14,
   "id": "7d8004cf",
   "metadata": {},
   "outputs": [
    {
     "data": {
      "application/vnd.jupyter.widget-view+json": {
       "model_id": "",
       "version_major": 2,
       "version_minor": 0
      },
      "text/plain": [
       "Map:   0%|          | 0/5000 [00:00<?, ? examples/s]"
      ]
     },
     "metadata": {},
     "output_type": "display_data"
    },
    {
     "data": {
      "application/vnd.jupyter.widget-view+json": {
       "model_id": "",
       "version_major": 2,
       "version_minor": 0
      },
      "text/plain": [
       "Map:   0%|          | 0/500 [00:00<?, ? examples/s]"
      ]
     },
     "metadata": {},
     "output_type": "display_data"
    }
   ],
   "source": [
    "import torch\n",
    "\n",
    "def tokenize_dataset(example):\n",
    "    input_text = ['generate recipe: ' + doc if doc is not None else '' for doc in example['NER']]\n",
    "    target_text = example['merged_text']\n",
    "        \n",
    "    input_tokenized = tokenizer(input_text, truncation=True, padding='max_length', max_length=512)\n",
    "    target_tokenized = tokenizer(target_text, truncation=True, padding='max_length', max_length=512)\n",
    "    labels = target_tokenized.input_ids\n",
    "\n",
    "    # replace padding token id's of the labels by -100 so it's ignored by the loss - WORKS!\n",
    "    # as per https://huggingface.co/docs/transformers/model_doc/t5#training\n",
    "    labels = torch.tensor(labels)\n",
    "    labels[labels == tokenizer.pad_token_id] = -100\n",
    "\n",
    "    return {\n",
    "        'input_ids': input_tokenized['input_ids'],\n",
    "        'attention_mask': input_tokenized['attention_mask'],\n",
    "        'labels': labels,        \n",
    "    }\n",
    "\n",
    "train_tokenized = train_dataset.map(tokenize_dataset, batched=True, remove_columns=list(train_dataset.features))\n",
    "val_tokenized = val_dataset.map(tokenize_dataset, batched=True, remove_columns=list(train_dataset.features))"
   ]
  },
  {
   "cell_type": "code",
   "execution_count": 15,
   "id": "b2cd0d7d",
   "metadata": {},
   "outputs": [
    {
     "data": {
      "text/plain": [
       "[2233,\n",
       " 10,\n",
       " 14024,\n",
       " 16693,\n",
       " 7,\n",
       " 275,\n",
       " 16008,\n",
       " 9,\n",
       " 461,\n",
       " 30884,\n",
       " 3018,\n",
       " 10,\n",
       " 14698,\n",
       " 41,\n",
       " 1071,\n",
       " 346,\n",
       " 201,\n",
       " 505,\n",
       " 3,\n",
       " 17,\n",
       " 7,\n",
       " 102,\n",
       " 5,\n",
       " 7055,\n",
       " 6,\n",
       " 314,\n",
       " 3,\n",
       " 75,\n",
       " 5,\n",
       " 3702,\n",
       " 6,\n",
       " 204,\n",
       " 54,\n",
       " 7,\n",
       " 5240,\n",
       " 9,\n",
       " 6,\n",
       " 586,\n",
       " 5875,\n",
       " 6,\n",
       " 16544,\n",
       " 7943,\n",
       " 10,\n",
       " 1491,\n",
       " 173,\n",
       " 5875,\n",
       " 5,\n",
       " 23291,\n",
       " 11,\n",
       " 25669,\n",
       " 5875,\n",
       " 5,\n",
       " 5049,\n",
       " 17,\n",
       " 4194,\n",
       " 617,\n",
       " 7055,\n",
       " 5,\n",
       " 13522,\n",
       " 552,\n",
       " 4126,\n",
       " 35,\n",
       " 7,\n",
       " 5,\n",
       " 2334,\n",
       " 3702,\n",
       " 7831,\n",
       " 5,\n",
       " 2334,\n",
       " 5240,\n",
       " 9,\n",
       " 5,\n",
       " 2334,\n",
       " 8,\n",
       " 5875,\n",
       " 5,\n",
       " 13522,\n",
       " 552,\n",
       " 4126,\n",
       " 35,\n",
       " 7,\n",
       " 5,\n",
       " 5306,\n",
       " 30,\n",
       " 16544,\n",
       " 5,\n",
       " 1,\n",
       " -100,\n",
       " -100,\n",
       " -100,\n",
       " -100,\n",
       " -100,\n",
       " -100,\n",
       " -100,\n",
       " -100,\n",
       " -100,\n",
       " -100,\n",
       " -100,\n",
       " -100,\n",
       " -100,\n",
       " -100,\n",
       " -100,\n",
       " -100,\n",
       " -100,\n",
       " -100,\n",
       " -100,\n",
       " -100,\n",
       " -100,\n",
       " -100,\n",
       " -100,\n",
       " -100,\n",
       " -100,\n",
       " -100,\n",
       " -100,\n",
       " -100,\n",
       " -100,\n",
       " -100,\n",
       " -100,\n",
       " -100,\n",
       " -100,\n",
       " -100,\n",
       " -100,\n",
       " -100,\n",
       " -100,\n",
       " -100,\n",
       " -100,\n",
       " -100,\n",
       " -100,\n",
       " -100,\n",
       " -100,\n",
       " -100,\n",
       " -100,\n",
       " -100,\n",
       " -100,\n",
       " -100,\n",
       " -100,\n",
       " -100,\n",
       " -100,\n",
       " -100,\n",
       " -100,\n",
       " -100,\n",
       " -100,\n",
       " -100,\n",
       " -100,\n",
       " -100,\n",
       " -100,\n",
       " -100,\n",
       " -100,\n",
       " -100,\n",
       " -100,\n",
       " -100,\n",
       " -100,\n",
       " -100,\n",
       " -100,\n",
       " -100,\n",
       " -100,\n",
       " -100,\n",
       " -100,\n",
       " -100,\n",
       " -100,\n",
       " -100,\n",
       " -100,\n",
       " -100,\n",
       " -100,\n",
       " -100,\n",
       " -100,\n",
       " -100,\n",
       " -100,\n",
       " -100,\n",
       " -100,\n",
       " -100,\n",
       " -100,\n",
       " -100,\n",
       " -100,\n",
       " -100,\n",
       " -100,\n",
       " -100,\n",
       " -100,\n",
       " -100,\n",
       " -100,\n",
       " -100,\n",
       " -100,\n",
       " -100,\n",
       " -100,\n",
       " -100,\n",
       " -100,\n",
       " -100,\n",
       " -100,\n",
       " -100,\n",
       " -100,\n",
       " -100,\n",
       " -100,\n",
       " -100,\n",
       " -100,\n",
       " -100,\n",
       " -100,\n",
       " -100,\n",
       " -100,\n",
       " -100,\n",
       " -100,\n",
       " -100,\n",
       " -100,\n",
       " -100,\n",
       " -100,\n",
       " -100,\n",
       " -100,\n",
       " -100,\n",
       " -100,\n",
       " -100,\n",
       " -100,\n",
       " -100,\n",
       " -100,\n",
       " -100,\n",
       " -100,\n",
       " -100,\n",
       " -100,\n",
       " -100,\n",
       " -100,\n",
       " -100,\n",
       " -100,\n",
       " -100,\n",
       " -100,\n",
       " -100,\n",
       " -100,\n",
       " -100,\n",
       " -100,\n",
       " -100,\n",
       " -100,\n",
       " -100,\n",
       " -100,\n",
       " -100,\n",
       " -100,\n",
       " -100,\n",
       " -100,\n",
       " -100,\n",
       " -100,\n",
       " -100,\n",
       " -100,\n",
       " -100,\n",
       " -100,\n",
       " -100,\n",
       " -100,\n",
       " -100,\n",
       " -100,\n",
       " -100,\n",
       " -100,\n",
       " -100,\n",
       " -100,\n",
       " -100,\n",
       " -100,\n",
       " -100,\n",
       " -100,\n",
       " -100,\n",
       " -100,\n",
       " -100,\n",
       " -100,\n",
       " -100,\n",
       " -100,\n",
       " -100,\n",
       " -100,\n",
       " -100,\n",
       " -100,\n",
       " -100,\n",
       " -100,\n",
       " -100,\n",
       " -100,\n",
       " -100,\n",
       " -100,\n",
       " -100,\n",
       " -100,\n",
       " -100,\n",
       " -100,\n",
       " -100,\n",
       " -100,\n",
       " -100,\n",
       " -100,\n",
       " -100,\n",
       " -100,\n",
       " -100,\n",
       " -100,\n",
       " -100,\n",
       " -100,\n",
       " -100,\n",
       " -100,\n",
       " -100,\n",
       " -100,\n",
       " -100,\n",
       " -100,\n",
       " -100,\n",
       " -100,\n",
       " -100,\n",
       " -100,\n",
       " -100,\n",
       " -100,\n",
       " -100,\n",
       " -100,\n",
       " -100,\n",
       " -100,\n",
       " -100,\n",
       " -100,\n",
       " -100,\n",
       " -100,\n",
       " -100,\n",
       " -100,\n",
       " -100,\n",
       " -100,\n",
       " -100,\n",
       " -100,\n",
       " -100,\n",
       " -100,\n",
       " -100,\n",
       " -100,\n",
       " -100,\n",
       " -100,\n",
       " -100,\n",
       " -100,\n",
       " -100,\n",
       " -100,\n",
       " -100,\n",
       " -100,\n",
       " -100,\n",
       " -100,\n",
       " -100,\n",
       " -100,\n",
       " -100,\n",
       " -100,\n",
       " -100,\n",
       " -100,\n",
       " -100,\n",
       " -100,\n",
       " -100,\n",
       " -100,\n",
       " -100,\n",
       " -100,\n",
       " -100,\n",
       " -100,\n",
       " -100,\n",
       " -100,\n",
       " -100,\n",
       " -100,\n",
       " -100,\n",
       " -100,\n",
       " -100,\n",
       " -100,\n",
       " -100,\n",
       " -100,\n",
       " -100,\n",
       " -100,\n",
       " -100,\n",
       " -100,\n",
       " -100,\n",
       " -100,\n",
       " -100,\n",
       " -100,\n",
       " -100,\n",
       " -100,\n",
       " -100,\n",
       " -100,\n",
       " -100,\n",
       " -100,\n",
       " -100,\n",
       " -100,\n",
       " -100,\n",
       " -100,\n",
       " -100,\n",
       " -100,\n",
       " -100,\n",
       " -100,\n",
       " -100,\n",
       " -100,\n",
       " -100,\n",
       " -100,\n",
       " -100,\n",
       " -100,\n",
       " -100,\n",
       " -100,\n",
       " -100,\n",
       " -100,\n",
       " -100,\n",
       " -100,\n",
       " -100,\n",
       " -100,\n",
       " -100,\n",
       " -100,\n",
       " -100,\n",
       " -100,\n",
       " -100,\n",
       " -100,\n",
       " -100,\n",
       " -100,\n",
       " -100,\n",
       " -100,\n",
       " -100,\n",
       " -100,\n",
       " -100,\n",
       " -100,\n",
       " -100,\n",
       " -100,\n",
       " -100,\n",
       " -100,\n",
       " -100,\n",
       " -100,\n",
       " -100,\n",
       " -100,\n",
       " -100,\n",
       " -100,\n",
       " -100,\n",
       " -100,\n",
       " -100,\n",
       " -100,\n",
       " -100,\n",
       " -100,\n",
       " -100,\n",
       " -100,\n",
       " -100,\n",
       " -100,\n",
       " -100,\n",
       " -100,\n",
       " -100,\n",
       " -100,\n",
       " -100,\n",
       " -100,\n",
       " -100,\n",
       " -100,\n",
       " -100,\n",
       " -100,\n",
       " -100,\n",
       " -100,\n",
       " -100,\n",
       " -100,\n",
       " -100,\n",
       " -100,\n",
       " -100,\n",
       " -100,\n",
       " -100,\n",
       " -100,\n",
       " -100,\n",
       " -100,\n",
       " -100,\n",
       " -100,\n",
       " -100,\n",
       " -100,\n",
       " -100,\n",
       " -100,\n",
       " -100,\n",
       " -100,\n",
       " -100,\n",
       " -100,\n",
       " -100,\n",
       " -100,\n",
       " -100,\n",
       " -100,\n",
       " -100,\n",
       " -100,\n",
       " -100,\n",
       " -100,\n",
       " -100,\n",
       " -100,\n",
       " -100,\n",
       " -100,\n",
       " -100,\n",
       " -100,\n",
       " -100,\n",
       " -100,\n",
       " -100,\n",
       " -100,\n",
       " -100,\n",
       " -100,\n",
       " -100,\n",
       " -100,\n",
       " -100,\n",
       " -100,\n",
       " -100,\n",
       " -100,\n",
       " -100,\n",
       " -100,\n",
       " -100,\n",
       " -100,\n",
       " -100,\n",
       " -100,\n",
       " -100,\n",
       " -100,\n",
       " -100,\n",
       " -100,\n",
       " -100,\n",
       " -100,\n",
       " -100,\n",
       " -100,\n",
       " -100,\n",
       " -100,\n",
       " -100,\n",
       " -100,\n",
       " -100,\n",
       " -100,\n",
       " -100,\n",
       " -100,\n",
       " -100,\n",
       " -100,\n",
       " -100,\n",
       " -100,\n",
       " -100,\n",
       " -100,\n",
       " -100,\n",
       " -100,\n",
       " -100,\n",
       " -100,\n",
       " -100,\n",
       " -100,\n",
       " -100,\n",
       " -100,\n",
       " -100,\n",
       " -100]"
      ]
     },
     "execution_count": 15,
     "metadata": {},
     "output_type": "execute_result"
    }
   ],
   "source": [
    "train_tokenized['labels'][1]"
   ]
  },
  {
   "cell_type": "code",
   "execution_count": 16,
   "id": "9736602a",
   "metadata": {},
   "outputs": [
    {
     "data": {
      "application/vnd.jupyter.widget-view+json": {
       "model_id": "",
       "version_major": 2,
       "version_minor": 0
      },
      "text/plain": [
       "Saving the dataset (0/1 shards):   0%|          | 0/5000 [00:00<?, ? examples/s]"
      ]
     },
     "metadata": {},
     "output_type": "display_data"
    },
    {
     "data": {
      "application/vnd.jupyter.widget-view+json": {
       "model_id": "",
       "version_major": 2,
       "version_minor": 0
      },
      "text/plain": [
       "Saving the dataset (0/1 shards):   0%|          | 0/500 [00:00<?, ? examples/s]"
      ]
     },
     "metadata": {},
     "output_type": "display_data"
    }
   ],
   "source": [
    "train_tokenized.save_to_disk('./tokenized_train_dataset_5k_v1')\n",
    "val_tokenized.save_to_disk('./tokenized_test_dataset_5k_v1')"
   ]
  },
  {
   "cell_type": "code",
   "execution_count": 17,
   "id": "9c9f9be8",
   "metadata": {},
   "outputs": [
    {
     "data": {
      "text/plain": [
       "('fine_tuned_t5_recipes_base_5k_v1/tokenizer_config.json',\n",
       " 'fine_tuned_t5_recipes_base_5k_v1/special_tokens_map.json',\n",
       " 'fine_tuned_t5_recipes_base_5k_v1/spiece.model',\n",
       " 'fine_tuned_t5_recipes_base_5k_v1/added_tokens.json')"
      ]
     },
     "execution_count": 17,
     "metadata": {},
     "output_type": "execute_result"
    }
   ],
   "source": [
    "tokenizer.save_pretrained(\"fine_tuned_t5_recipes_base_5k_v1\")"
   ]
  },
  {
   "cell_type": "code",
   "execution_count": null,
   "id": "7c48545c",
   "metadata": {},
   "outputs": [],
   "source": []
  }
 ],
 "metadata": {
  "kernelspec": {
   "display_name": "Python [conda env:pytorch110_p38_gpu_v1]",
   "language": "python",
   "name": "conda-env-pytorch110_p38_gpu_v1-py"
  },
  "language_info": {
   "codemirror_mode": {
    "name": "ipython",
    "version": 3
   },
   "file_extension": ".py",
   "mimetype": "text/x-python",
   "name": "python",
   "nbconvert_exporter": "python",
   "pygments_lexer": "ipython3",
   "version": "3.8.13"
  }
 },
 "nbformat": 4,
 "nbformat_minor": 5
}
