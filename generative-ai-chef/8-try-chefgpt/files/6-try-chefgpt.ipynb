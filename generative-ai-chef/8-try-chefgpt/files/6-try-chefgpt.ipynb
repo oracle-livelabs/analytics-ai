{
 "cells": [
  {
   "attachments": {},
   "cell_type": "markdown",
   "id": "1bc2dd28",
   "metadata": {},
   "source": [
    "# Let's try the ChefGPT\n",
    "\n",
    "Let's try our newly trained model and see how well it performs"
   ]
  },
  {
   "cell_type": "code",
   "execution_count": null,
   "id": "9eae287c",
   "metadata": {},
   "outputs": [],
   "source": [
    "# We are going to use the same T5 wrapper used in previous labs, only this time, we are going to load the trained\n",
    "# model by referencing the `fine_tuned_t5_recipes_base_5k_v1` folder (which is where we saved the trained model in the previous lab).\n",
    "# We do the same for the tokenizer.\n",
    "\n",
    "from transformers import T5ForConditionalGeneration, T5Tokenizer\n",
    "\n",
    "model = T5ForConditionalGeneration.from_pretrained(\"fine_tuned_t5_recipes_base_5k_v1\")\n",
    "tokenizer = T5Tokenizer.from_pretrained(\"fine_tuned_t5_recipes_base_5k_v1\")"
   ]
  },
  {
   "attachments": {},
   "cell_type": "markdown",
   "id": "14ad9db4",
   "metadata": {},
   "source": [
    "Let's setup our food items"
   ]
  },
  {
   "cell_type": "code",
   "execution_count": 13,
   "id": "64ed18d7",
   "metadata": {},
   "outputs": [],
   "source": [
    "# Specify some food items which will be used in our recipe prompt\n",
    "\n",
    "food_items = \"chicken, peas, carrots, cream of chicken soup, cream of celery soup, chicken broth, milk, Bisquick mix\""
   ]
  },
  {
   "attachments": {},
   "cell_type": "markdown",
   "id": "00f918c5",
   "metadata": {},
   "source": [
    "For more information about the different settings visit: https://huggingface.co/blog/how-to-generate"
   ]
  },
  {
   "cell_type": "code",
   "execution_count": 14,
   "id": "48a3f7dc",
   "metadata": {},
   "outputs": [],
   "source": [
    "# Define a function which accepts a food items list as text, builds a prompt and calls the `generate` function on the model to generate the recipe.\n",
    "# There are several ways to use the `generate` functions and we are going to try a few of those in this lab.\n",
    "# If you would like to learn more about the various options, please refer to:\n",
    "# [https://huggingface.co/blog/how-togenerate](https://huggingface.co/blog/how-togenerate).\n",
    "\n",
    "def generate_recipe_v1(prompt):\n",
    "    input_text = f\"generate recipe: {prompt}\"\n",
    "    input_ids = tokenizer.encode(input_text, return_tensors=\"pt\")\n",
    "    output_ids = model.generate(input_ids, max_length=512, num_return_sequences=1)\n",
    "    output_text = tokenizer.decode(output_ids[0], skip_special_tokens=True)\n",
    "    return output_text"
   ]
  },
  {
   "cell_type": "code",
   "execution_count": 15,
   "id": "06ec4716",
   "metadata": {},
   "outputs": [
    {
     "name": "stdout",
     "output_type": "stream",
     "text": [
      "title: Chicken Soup \n",
      "\n",
      "Ingredients: 1 lb. chicken, 1 c. peas, 1 c. carrots, 1 c. cream of chicken soup, 1 c. cream of celery soup, 1 c. chicken broth, 1 c. milk, 1 c. Bisquick mix \n",
      "\n",
      "Directions: Cook chicken in boiling water. Add peas and carrots. Add cream of chicken soup and celery soup. Add chicken broth milk and Bisquick mix. Stir until mixture is thickened. Add chicken broth and milk. Stir in Bisquick mix. Pour into a greased 9 x 13-inch baking dish. Bake at 350u00b0 for 20 minutes.\n"
     ]
    }
   ],
   "source": [
    "# Call our function to generate a recipe using the food items list declared in the second cell, and print the result\n",
    "\n",
    "recipe = generate_recipe_v1(food_items)\n",
    "s = recipe.replace(\"ingredients:\", \"\\n\\nIngredients:\").replace(\"directions:\", \"\\n\\nDirections:\")\n",
    "print(s)"
   ]
  },
  {
   "cell_type": "code",
   "execution_count": 16,
   "id": "9ba06ee6",
   "metadata": {},
   "outputs": [
    {
     "name": "stdout",
     "output_type": "stream",
     "text": [
      "title: Chicken Bisquick \n",
      "\n",
      "Ingredients: 1 small cube (120 g) chicken stock, drained, 1 can chopped peas, peeled and cooked, 1 lb diced carrots, 1 box cream of chicken soup, 2 cups cream of celery soup, 1 can chicken broth, 2 cups milk, 1/2 cup Bisquick mix \n",
      "\n",
      "Directions: Mix all ingredients well. Put in a large skillet to cook. Remove from heat. Add the chicken and peas and cook at 350u00b0. Add the soup. Boil about 3 minutes. Add all ingredients and cook for about 5 minutes. Remove from heat and bake at 400u00b0 for about 30 minutes stirring occasionally. Reduce heat and stir occasionally stirring occasionally.\n"
     ]
    }
   ],
   "source": [
    "# A variation on the code in cell above where we use different parameters to control the output of the `generate` function.\n",
    "\n",
    "generation_kwargs_v3 = {\n",
    "    \"max_length\": 512,\n",
    "    \"do_sample\": True,\n",
    "    \"top_k\": 50,\n",
    "    \"top_p\": 0.95,\n",
    "    \"num_return_sequences\": 3\n",
    "}\n",
    "\n",
    "def generate_recipe_v3(prompt):\n",
    "    input_text = f\"generate recipe: {prompt}\"\n",
    "    input_ids = tokenizer(input_text, return_tensors=\"pt\", padding='max_length', truncation=True, max_length=512).input_ids\n",
    "    output_ids = model.generate(input_ids, **generation_kwargs_v3)\n",
    "    output_text = tokenizer.decode(output_ids[0], skip_special_tokens=True)\n",
    "    return output_text\n",
    "\n",
    "recipe = generate_recipe_v3(food_items)\n",
    "s = recipe.replace(\"ingredients:\", \"\\n\\nIngredients:\").replace(\"directions:\", \"\\n\\nDirections:\")\n",
    "print(s)"
   ]
  },
  {
   "cell_type": "code",
   "execution_count": 17,
   "id": "b62be588",
   "metadata": {},
   "outputs": [
    {
     "name": "stdout",
     "output_type": "stream",
     "text": [
      "title: Chicken Tomato Soup \n",
      "\n",
      "Ingredients: 2 lbs. chicken, chopped, 2 lb. peas, chopped carrots, 1 c. cream of chicken soup, 1 small can cream of celery soup, 4 cups chicken broth, 1 cups milk, 1 1/2 cups Bisquick mix \n",
      "\n",
      "Directions: Cook chicken with 1 large can pea salad (not brown), 2 cups white beans, cooked, 1/2 cup carrots and soup, and cover with hot water to cook.\n"
     ]
    }
   ],
   "source": [
    "# Another variation on the code in cell above where we use different parameters to control the output of the `generate` function.\n",
    "\n",
    "generation_kwargs_v4 = {\n",
    "    \"max_length\": 512,\n",
    "    \"min_length\": 64,\n",
    "    \"no_repeat_ngram_size\": 3,\n",
    "    \"do_sample\": True,\n",
    "    \"top_k\": 60,\n",
    "    \"top_p\": 0.95\n",
    "}\n",
    "\n",
    "def generate_recipe_v4(prompt):\n",
    "    input_text = f\"generate recipe: {prompt}\"\n",
    "    inputs = tokenizer(\n",
    "        input_text, \n",
    "        max_length=512, \n",
    "        padding=\"max_length\", \n",
    "        truncation=True, \n",
    "        return_tensors=\"pt\"\n",
    "    )\n",
    "\n",
    "    input_ids = inputs.input_ids\n",
    "    attention_mask = inputs.attention_mask\n",
    "\n",
    "    output_ids = model.generate(\n",
    "        input_ids=input_ids, \n",
    "        attention_mask=attention_mask,\n",
    "        **generation_kwargs_v4\n",
    "    )\n",
    "    output_text = tokenizer.decode(output_ids[0], skip_special_tokens=True)\n",
    "    return output_text\n",
    "\n",
    "recipe = generate_recipe_v4(food_items)\n",
    "s = recipe.replace(\"ingredients:\", \"\\n\\nIngredients:\").replace(\"directions:\", \"\\n\\nDirections:\")\n",
    "print(s)"
   ]
  },
  {
   "attachments": {},
   "cell_type": "markdown",
   "id": "623afc57",
   "metadata": {},
   "source": [
    "## Using Pipelines"
   ]
  },
  {
   "cell_type": "code",
   "execution_count": null,
   "id": "b709f6e6",
   "metadata": {},
   "outputs": [],
   "source": [
    "# In this cell we showcase the use of the `pipeline` wrapper of the `transformers` library.\n",
    "# We load the tuned model by specifying the `fine_tuned_t5_recipes_base_5k_v1` folder where the tuned model was saved.\n",
    "# In the call to the `pipeline` function, we specify `text2text-generation` as the value to the `task` parameter since T5 is a sequence to sequence LLM.\n",
    "\n",
    "from transformers import pipeline\n",
    "from transformers import T5ForConditionalGeneration, T5Tokenizer\n",
    "\n",
    "model = T5ForConditionalGeneration.from_pretrained(\"fine_tuned_t5_recipes_base_5k_v1\")\n",
    "tokenizer = T5Tokenizer.from_pretrained(\"fine_tuned_t5_recipes_base_5k_v1\")\n",
    "\n",
    "generator = pipeline(model=model, tokenizer=tokenizer, task=\"text2text-generation\")"
   ]
  },
  {
   "cell_type": "code",
   "execution_count": 20,
   "id": "e739aafc",
   "metadata": {},
   "outputs": [
    {
     "name": "stdout",
     "output_type": "stream",
     "text": [
      "title: Chicken Mash \n",
      "\n",
      "Ingredients: 1 can chicken, 1 can peas, 1 can carrots, diced, 1 can cream of chicken soup, 1 can cream of celery soup, 1 can chicken broth, 1 lb. milk, 3/4 cup Bisquick mix \n",
      "\n",
      "Directions: In a small bowl combine the soup and water to make a thicker soup. Mix the two and mix until thick. Pour over chicken. Cook until chicken is tender. Drain. Remove from water and cool. Add the rest of the liquid (except cheese) and let stand 5 minutes.\n"
     ]
    }
   ],
   "source": [
    "# In the eighth cell we specify a food items list, set values for some of the possible parameters and use the `generator` function with our prompt and parameters.\n",
    "\n",
    "food_items = \"chicken, peas, carrots, cream of chicken soup, cream of celery soup, chicken broth, milk, Bisquick mix\"\n",
    "\n",
    "tokenizer_kwargs = {\n",
    "    \"max_length\": 512,\n",
    "    \"do_sample\": True,\n",
    "    \"top_k\": 60,\n",
    "    \"top_p\": 0.95,\n",
    "    \"num_return_sequences\": 2\n",
    "}\n",
    "\n",
    "response = generator(f\"generate recipe: {food_items}\", **tokenizer_kwargs)\n",
    "\n",
    "print(response[0]['generated_text'].replace(\"ingredients:\", \"\\n\\nIngredients:\").replace(\"directions:\", \"\\n\\nDirections:\"))"
   ]
  },
  {
   "cell_type": "code",
   "execution_count": null,
   "id": "c979933c",
   "metadata": {},
   "outputs": [],
   "source": []
  }
 ],
 "metadata": {
  "kernelspec": {
   "display_name": "Python [conda env:pytorch110_p38_gpu_v1]",
   "language": "python",
   "name": "conda-env-pytorch110_p38_gpu_v1-py"
  },
  "language_info": {
   "codemirror_mode": {
    "name": "ipython",
    "version": 3
   },
   "file_extension": ".py",
   "mimetype": "text/x-python",
   "name": "python",
   "nbconvert_exporter": "python",
   "pygments_lexer": "ipython3",
   "version": "3.8.13"
  }
 },
 "nbformat": 4,
 "nbformat_minor": 5
}
