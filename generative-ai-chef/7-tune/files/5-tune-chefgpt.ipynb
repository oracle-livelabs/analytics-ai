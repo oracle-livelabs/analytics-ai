{
 "cells": [
  {
   "attachments": {},
   "cell_type": "markdown",
   "id": "fc1497b2",
   "metadata": {},
   "source": [
    "# Let's Train ChefGPT\n",
    "\n",
    "Let's fine tune our own ChefGPT model. "
   ]
  },
  {
   "attachments": {},
   "cell_type": "markdown",
   "id": "6405c4ed",
   "metadata": {},
   "source": [
    "Load the pre-tokenized dataset"
   ]
  },
  {
   "cell_type": "code",
   "execution_count": null,
   "id": "73394097",
   "metadata": {},
   "outputs": [],
   "source": [
    "# We are going to load the tokenized training dataset\n",
    "\n",
    "from datasets import load_from_disk\n",
    "\n",
    "train_tokenized = load_from_disk('./tokenized_train_dataset_5k_v1')\n",
    "val_tokenized = load_from_disk('./tokenized_test_dataset_5k_v1')"
   ]
  },
  {
   "cell_type": "code",
   "execution_count": 2,
   "id": "15dc8da6",
   "metadata": {},
   "outputs": [
    {
     "data": {
      "text/plain": [
       "(5000, 3)"
      ]
     },
     "execution_count": 2,
     "metadata": {},
     "output_type": "execute_result"
    }
   ],
   "source": [
    "# Print the size of the training dataset\n",
    "\n",
    "train_tokenized.shape"
   ]
  },
  {
   "cell_type": "code",
   "execution_count": 3,
   "id": "dfbd99e3",
   "metadata": {},
   "outputs": [
    {
     "data": {
      "text/plain": [
       "(500, 3)"
      ]
     },
     "execution_count": 3,
     "metadata": {},
     "output_type": "execute_result"
    }
   ],
   "source": [
    "# Print the size of the evaluation dataset\n",
    "\n",
    "val_tokenized.shape"
   ]
  },
  {
   "attachments": {},
   "cell_type": "markdown",
   "id": "73740d84",
   "metadata": {},
   "source": [
    "## Let's Train"
   ]
  },
  {
   "cell_type": "code",
   "execution_count": 4,
   "id": "9c888972",
   "metadata": {},
   "outputs": [],
   "source": [
    "# We are loading the model using the same wrappers used in previous labs.\n",
    "# Using those wrappers we are going to tune the entire model using the loaded dataset. Since the model is not very large, this is not\n",
    "# going to take a long time.\n",
    "\n",
    "from transformers import T5ForConditionalGeneration, T5Tokenizer, T5Config, TrainingArguments, Trainer"
   ]
  },
  {
   "cell_type": "code",
   "execution_count": 5,
   "id": "23412dbd",
   "metadata": {},
   "outputs": [],
   "source": [
    "# Configure the model\n",
    "config = T5Config.from_pretrained('t5-base')\n",
    "\n",
    "# Initialize the model\n",
    "model = T5ForConditionalGeneration.from_pretrained('t5-base', config=config)\n",
    "\n",
    "# Disable caching for the model, prevents cache error message during the training!\n",
    "model.config.use_cache = False"
   ]
  },
  {
   "cell_type": "code",
   "execution_count": 6,
   "id": "3c2ff84e",
   "metadata": {},
   "outputs": [
    {
     "name": "stderr",
     "output_type": "stream",
     "text": [
      "Using cuda_amp half precision backend\n"
     ]
    }
   ],
   "source": [
    "# In this cell, the training parameters are set while using the `TrainingArguments` and `Trainer` wrappers from the HuggingFace Transformers library.\n",
    "# The training arguments were taken directly from the HuggingFace T5 model training documentation.\n",
    "# The values for the parameters were selected to leverage the performance characteristics of the GPU shape we are using in this lab (dual A10 GPUs).\n",
    "\n",
    "# Configure training arguments / A10 dual conform\n",
    "# as per https://huggingface.co/docs/transformers/model_doc/t5#training\n",
    "training_args = TrainingArguments(\n",
    "    output_dir='./results',\n",
    "    num_train_epochs=3,\n",
    "    per_device_train_batch_size=8,\n",
    "    per_device_eval_batch_size=8,\n",
    "    evaluation_strategy='epoch',\n",
    "    save_strategy='epoch',\n",
    "    logging_strategy='epoch',\n",
    "    logging_dir='./logs',\n",
    "    gradient_accumulation_steps=2,\n",
    "    learning_rate=1e-4,\n",
    "    warmup_steps=100,\n",
    "    weight_decay=0.01,\n",
    "    fp16=True,\n",
    "    load_best_model_at_end=True,\n",
    "    optim=\"adamw_torch\",\n",
    "    adam_beta1=0.85    \n",
    ")\n",
    "\n",
    "# Define the trainer\n",
    "trainer = Trainer(\n",
    "    model=model,\n",
    "    args=training_args,\n",
    "    train_dataset=train_tokenized,\n",
    "    eval_dataset=val_tokenized\n",
    ")"
   ]
  },
  {
   "cell_type": "code",
   "execution_count": 7,
   "id": "d0c7e925",
   "metadata": {},
   "outputs": [
    {
     "name": "stderr",
     "output_type": "stream",
     "text": [
      "***** Running training *****\n",
      "  Num examples = 5000\n",
      "  Num Epochs = 3\n",
      "  Instantaneous batch size per device = 8\n",
      "  Total train batch size (w. parallel, distributed & accumulation) = 32\n",
      "  Gradient Accumulation steps = 2\n",
      "  Total optimization steps = 468\n",
      "  Number of trainable parameters = 222903552\n",
      "/home/datascience/conda/pytorch110_p38_gpu_v1/lib/python3.8/site-packages/torch/nn/parallel/_functions.py:68: UserWarning: Was asked to gather along dimension 0, but all input tensors were scalars; will instead unsqueeze and return a vector.\n",
      "  warnings.warn('Was asked to gather along dimension 0, but all '\n"
     ]
    },
    {
     "data": {
      "text/html": [
       "\n",
       "    <div>\n",
       "      \n",
       "      <progress value='468' max='468' style='width:300px; height:20px; vertical-align: middle;'></progress>\n",
       "      [468/468 09:49, Epoch 2/3]\n",
       "    </div>\n",
       "    <table border=\"1\" class=\"dataframe\">\n",
       "  <thead>\n",
       " <tr style=\"text-align: left;\">\n",
       "      <th>Epoch</th>\n",
       "      <th>Training Loss</th>\n",
       "      <th>Validation Loss</th>\n",
       "    </tr>\n",
       "  </thead>\n",
       "  <tbody>\n",
       "    <tr>\n",
       "      <td>0</td>\n",
       "      <td>3.914700</td>\n",
       "      <td>2.105792</td>\n",
       "    </tr>\n",
       "    <tr>\n",
       "      <td>1</td>\n",
       "      <td>2.282400</td>\n",
       "      <td>1.998505</td>\n",
       "    </tr>\n",
       "    <tr>\n",
       "      <td>2</td>\n",
       "      <td>2.191600</td>\n",
       "      <td>1.975185</td>\n",
       "    </tr>\n",
       "  </tbody>\n",
       "</table><p>"
      ],
      "text/plain": [
       "<IPython.core.display.HTML object>"
      ]
     },
     "metadata": {},
     "output_type": "display_data"
    },
    {
     "name": "stderr",
     "output_type": "stream",
     "text": [
      "***** Running Evaluation *****\n",
      "  Num examples = 500\n",
      "  Batch size = 16\n",
      "Saving model checkpoint to ./results/checkpoint-156\n",
      "Configuration saved in ./results/checkpoint-156/config.json\n",
      "Model weights saved in ./results/checkpoint-156/pytorch_model.bin\n",
      "/home/datascience/conda/pytorch110_p38_gpu_v1/lib/python3.8/site-packages/torch/nn/parallel/_functions.py:68: UserWarning: Was asked to gather along dimension 0, but all input tensors were scalars; will instead unsqueeze and return a vector.\n",
      "  warnings.warn('Was asked to gather along dimension 0, but all '\n",
      "***** Running Evaluation *****\n",
      "  Num examples = 500\n",
      "  Batch size = 16\n",
      "Saving model checkpoint to ./results/checkpoint-312\n",
      "Configuration saved in ./results/checkpoint-312/config.json\n",
      "Model weights saved in ./results/checkpoint-312/pytorch_model.bin\n",
      "/home/datascience/conda/pytorch110_p38_gpu_v1/lib/python3.8/site-packages/torch/nn/parallel/_functions.py:68: UserWarning: Was asked to gather along dimension 0, but all input tensors were scalars; will instead unsqueeze and return a vector.\n",
      "  warnings.warn('Was asked to gather along dimension 0, but all '\n",
      "***** Running Evaluation *****\n",
      "  Num examples = 500\n",
      "  Batch size = 16\n",
      "Saving model checkpoint to ./results/checkpoint-468\n",
      "Configuration saved in ./results/checkpoint-468/config.json\n",
      "Model weights saved in ./results/checkpoint-468/pytorch_model.bin\n",
      "\n",
      "\n",
      "Training completed. Do not forget to share your model on huggingface.co/models =)\n",
      "\n",
      "\n",
      "Loading best model from ./results/checkpoint-468 (score: 1.9751847982406616).\n",
      "Configuration saved in fine_tuned_t5_recipes_base_5k_v1/config.json\n",
      "Model weights saved in fine_tuned_t5_recipes_base_5k_v1/pytorch_model.bin\n"
     ]
    }
   ],
   "source": [
    "# We are going to execute the training process as well as save the results to a local file.\n",
    "# Fine-tune the model\n",
    "trainer.train()\n",
    "\n",
    "# Save the fine-tuned model\n",
    "model.save_pretrained(\"fine_tuned_t5_recipes_base_5k_v1\")"
   ]
  },
  {
   "cell_type": "code",
   "execution_count": null,
   "id": "d4125d02",
   "metadata": {},
   "outputs": [],
   "source": []
  }
 ],
 "metadata": {
  "kernelspec": {
   "display_name": "Python [conda env:pytorch110_p38_gpu_v1]",
   "language": "python",
   "name": "conda-env-pytorch110_p38_gpu_v1-py"
  },
  "language_info": {
   "codemirror_mode": {
    "name": "ipython",
    "version": 3
   },
   "file_extension": ".py",
   "mimetype": "text/x-python",
   "name": "python",
   "nbconvert_exporter": "python",
   "pygments_lexer": "ipython3",
   "version": "3.8.13"
  }
 },
 "nbformat": 4,
 "nbformat_minor": 5
}
