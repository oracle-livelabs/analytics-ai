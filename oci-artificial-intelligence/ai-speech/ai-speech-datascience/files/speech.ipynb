{
 "cells": [
  {
   "cell_type": "markdown",
   "id": "317c8670",
   "metadata": {},
   "source": [
    "### OCI Data Science - Useful Tips\n",
    "<details>\n",
    "<summary><font size=\"2\">Check for Public Internet Access</font></summary>\n",
    "\n",
    "```python\n",
    "import requests\n",
    "response = requests.get(\"https://oracle.com\")\n",
    "assert response.status_code==200, \"Internet connection failed\"\n",
    "```\n",
    "</details>\n",
    "<details>\n",
    "<summary><font size=\"2\">Helpful Documentation </font></summary>\n",
    "<ul><li><a href=\"https://docs.cloud.oracle.com/en-us/iaas/data-science/using/data-science.htm\">Data Science Service Documentation</a></li>\n",
    "<li><a href=\"https://docs.cloud.oracle.com/iaas/tools/ads-sdk/latest/index.html\">ADS documentation</a></li>\n",
    "</ul>\n",
    "</details>\n",
    "<details>\n",
    "<summary><font size=\"2\">Typical Cell Imports and Settings for ADS</font></summary>\n",
    "\n",
    "```python\n",
    "%load_ext autoreload\n",
    "%autoreload 2\n",
    "%matplotlib inline\n",
    "\n",
    "import warnings\n",
    "warnings.filterwarnings('ignore')\n",
    "\n",
    "import logging\n",
    "logging.basicConfig(format='%(levelname)s:%(message)s', level=logging.ERROR)\n",
    "\n",
    "import ads\n",
    "from ads.dataset.factory import DatasetFactory\n",
    "from ads.automl.provider import OracleAutoMLProvider\n",
    "from ads.automl.driver import AutoML\n",
    "from ads.evaluations.evaluator import ADSEvaluator\n",
    "from ads.common.data import ADSData\n",
    "from ads.explanations.explainer import ADSExplainer\n",
    "from ads.explanations.mlx_global_explainer import MLXGlobalExplainer\n",
    "from ads.explanations.mlx_local_explainer import MLXLocalExplainer\n",
    "from ads.catalog.model import ModelCatalog\n",
    "from ads.common.model_artifact import ModelArtifact\n",
    "```\n",
    "</details>\n",
    "<details>\n",
    "<summary><font size=\"2\">Useful Environment Variables</font></summary>\n",
    "\n",
    "```python\n",
    "import os\n",
    "print(os.environ[\"NB_SESSION_COMPARTMENT_OCID\"])\n",
    "print(os.environ[\"PROJECT_OCID\"])\n",
    "print(os.environ[\"USER_OCID\"])\n",
    "print(os.environ[\"TENANCY_OCID\"])\n",
    "print(os.environ[\"NB_REGION\"])\n",
    "```\n",
    "</details>"
   ]
  },
  {
   "cell_type": "code",
   "execution_count": null,
   "id": "c88737da",
   "metadata": {},
   "outputs": [],
   "source": [
    "import oci\n",
    "config = oci.config.from_file()\n",
    "\n",
    "#this is good for pointing to another endpoint than the config file\n",
    "##ai_client = oci.ai_speech.AIServiceSpeechClient(config,service_endpoint=\"https://speech.aiservice.us-phoenix-1.oci.oraclecloud.com\")\n",
    "\n",
    "#Using the config file default endpoint\n",
    "ai_client = oci.ai_speech.AIServiceSpeechClient(config)"
   ]
  },
  {
   "cell_type": "code",
   "execution_count": null,
   "id": "69e020a7",
   "metadata": {},
   "outputs": [],
   "source": [
    "# Transcription job details in these fields\n",
    "job_display_name = \"example_job\"\n",
    "job_compartment_id = \"ocid1.compartment.oc1..aaaaaaaafhejmv2sovpb2g7hxjfkonpxzlhb3ued6iutapxbqafjhl6s7xdq\" #aispeech Test compartment\n",
    "job_description = \"example with oracle advertising\"\n",
    "bucket_name = \"example\"\n",
    "namespace = \"axsjzgvicq5h\"\n",
    "new_compartment_id = \"ocid1.compartment.oc1..aaaaaaaaw5zoh4xtzfoisabf6qcxtolnwc6vzda3ym6dpamfolmnzvscsd5q\" #aispeech LiveLab compartment\n",
    "new_display_name = \"updated_name\"\n",
    "new_description = \"new updated description\"\n",
    "\n",
    "#to be used in create_transcription_job\n",
    "job_model_details = oci.ai_speech.models.TranscriptionModelDetails(domain=\"GENERIC\", language_code=\"en-US\")\n",
    "job_object_location = oci.ai_speech.models.ObjectLocation(namespace_name=namespace, bucket_name=bucket_name,object_names=[\"Oracle_Advertising.wav\"])\n",
    "job_input_location = oci.ai_speech.models.ObjectListInlineInputLocation(location_type=\"OBJECT_LIST_INLINE_INPUT_LOCATION\", object_locations=[job_object_location])\n",
    "job_output_location = oci.ai_speech.models.OutputLocation(namespace_name=namespace, bucket_name=bucket_name, prefix=\"Speech_Notebook_Demo\")\n"
   ]
  },
  {
   "cell_type": "code",
   "execution_count": null,
   "id": "204f2502",
   "metadata": {},
   "outputs": [],
   "source": [
    "# Create Transcription Job with details provided\n",
    "transcription_job_details = oci.ai_speech.models.CreateTranscriptionJobDetails(display_name=job_display_name,\n",
    "compartment_id=job_compartment_id,\n",
    "description=job_description,\n",
    "model_details=job_model_details,\n",
    "input_location=job_input_location,\n",
    "output_location=job_output_location)"
   ]
  },
  {
   "cell_type": "code",
   "execution_count": null,
   "id": "a6bda2e6",
   "metadata": {},
   "outputs": [],
   "source": [
    "#call the AI Create Transcription Job \n",
    "transcription_job = None\n",
    "try:\n",
    "    transcription_job = ai_client.create_transcription_job(create_transcription_job_details=transcription_job_details)\n",
    "except Exception as e:\n",
    "    print(e)\n",
    "else:\n",
    "    print(transcription_job.data)"
   ]
  },
  {
   "cell_type": "code",
   "execution_count": null,
   "id": "5a043d46-e476-43a5-a711-cb874b9a24d0",
   "metadata": {},
   "outputs": [],
   "source": [
    "#update name and description of newly created job\n",
    "UPDATE_JOB_DETAILS = oci.ai_speech.models.UpdateTranscriptionJobDetails(display_name=new_display_name, description=new_description)\n",
    "\n",
    "try:\n",
    "    transcription_job = ai_client.update_transcription_job(transcription_job.data.id, UPDATE_JOB_DETAILS)\n",
    "    print(transcription_job.data)\n",
    "except Exception as e:\n",
    "    print(e)"
   ]
  },
  {
   "cell_type": "code",
   "execution_count": null,
   "id": "4383c41a-a90d-478e-823a-1cf90be40199",
   "metadata": {},
   "outputs": [],
   "source": [
    "# Move Job to new compartment (LiveLab)\n",
    "COMPARTMENT_DETAILS = oci.ai_speech.models.ChangeTranscriptionJobCompartmentDetails(compartment_id=new_compartment_id)\n",
    "\n",
    "try:\n",
    "    ai_client.change_transcription_job_compartment(transcription_job.data.id, COMPARTMENT_DETAILS)\n",
    "except Exception as e:\n",
    "    print(e)"
   ]
  },
  {
   "cell_type": "code",
   "execution_count": null,
   "id": "ec7fcf2e",
   "metadata": {},
   "outputs": [],
   "source": [
    "# Gets All Transcription Jobs from a particular compartment (LiveLab)\n",
    "try:\n",
    "    transcription_jobs = ai_client.list_transcription_jobs(compartment_id=transcription_job.data.compartment_id)\n",
    "except Exception as e:\n",
    "    print(e)\n",
    "else:\n",
    "    print(transcription_jobs.data)"
   ]
  },
  {
   "cell_type": "code",
   "execution_count": null,
   "id": "5cc8cfaa-33ad-4a35-94e7-e3528e861cb3",
   "metadata": {},
   "outputs": [],
   "source": [
    "# Gets Transcription Job with given Transcription job id\n",
    "try:\n",
    "    if transcription_job.data:\n",
    "        transcription_job = ai_client.get_transcription_job(transcription_job.data.id)\n",
    "except Exception as e:\n",
    "    print(e)\n",
    "else:\n",
    "    print(transcription_job.data)"
   ]
  },
  {
   "cell_type": "code",
   "execution_count": null,
   "id": "2bf3320f-b717-426a-9b78-273b129e0d78",
   "metadata": {},
   "outputs": [],
   "source": [
    "# Cancel Transcription Job\n",
    "try:\n",
    "    ai_client.cancel_transcription_job(transcription_job.data.id)\n",
    "except Exception as e:\n",
    "    print(e)"
   ]
  },
  {
   "cell_type": "code",
   "execution_count": null,
   "id": "02cc5640",
   "metadata": {},
   "outputs": [],
   "source": [
    "# Gets Transcription tasks under given transcription Job Id\n",
    "transcription_tasks = None\n",
    "try:\n",
    "    transcription_tasks = ai_client.list_transcription_tasks(transcription_job.data.id, limit=1)\n",
    "except Exception as e:\n",
    "    print(e)\n",
    "else:\n",
    "    print(transcription_tasks.data)"
   ]
  },
  {
   "cell_type": "code",
   "execution_count": null,
   "id": "22f2f743",
   "metadata": {},
   "outputs": [],
   "source": [
    "# Gets a Transcription Task with given Transcription task id under Transcription Job id\n",
    "transcription_task = None\n",
    "try:\n",
    "    if transcription_tasks.data:\n",
    "        transcription_task = ai_client.get_transcription_task(transcription_job.data.id, transcription_tasks.data.items[0].id)\n",
    "except Exception as e:\n",
    "    print(e)\n",
    "else:\n",
    "    print(transcription_task.data)"
   ]
  },
  {
   "cell_type": "code",
   "execution_count": null,
   "id": "3e34b91b-1cdf-45ce-9800-d5267d867a1f",
   "metadata": {},
   "outputs": [],
   "source": [
    "# Cancel Transcription Task\n",
    "try:\n",
    "    if transcription_task:\n",
    "        ai_client.cancel_transcription_task(transcription_job.data.id, transcription_task.data.id)\n",
    "except Exception as e:\n",
    "    print(e)"
   ]
  }
 ],
 "metadata": {
  "kernelspec": {
   "display_name": "Python 3 (ipykernel)",
   "language": "python",
   "name": "python3"
  },
  "language_info": {
   "codemirror_mode": {
    "name": "ipython",
    "version": 3
   },
   "file_extension": ".py",
   "mimetype": "text/x-python",
   "name": "python",
   "nbconvert_exporter": "python",
   "pygments_lexer": "ipython3",
   "version": "3.10.2"
  }
 },
 "nbformat": 4,
 "nbformat_minor": 5
}
