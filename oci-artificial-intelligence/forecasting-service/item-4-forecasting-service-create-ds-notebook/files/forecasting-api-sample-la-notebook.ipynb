{
 "cells": [
  {
   "cell_type": "code",
   "execution_count": 1,
   "id": "5d614efe",
   "metadata": {},
   "outputs": [],
   "source": [
    "import pandas as pd\n",
    "import requests\n",
    "import json\n",
    "import ast\n",
    "import matplotlib.pyplot as plt\n",
    "import re\n",
    "import os\n",
    "import simplejson\n",
    "import plotly.express as px\n",
    "import plotly.graph_objects as go\n",
    "from oci.signer import Signer\n"
   ]
  },
  {
   "cell_type": "markdown",
   "id": "583b4b37",
   "metadata": {},
   "source": [
    "### OCI Data Science - Useful Tips\n",
    "<details>\n",
    "<summary><font size=\"2\">Check for Public Internet Access</font></summary>\n",
    "\n",
    "```python\n",
    "import requests\n",
    "response = requests.get(\"https://oracle.com\")\n",
    "assert response.status_code==200, \"Internet connection failed\"\n",
    "```\n",
    "</details>\n",
    "<details>\n",
    "<summary><font size=\"2\">Helpful Documentation </font></summary>\n",
    "<ul><li><a href=\"https://docs.cloud.oracle.com/en-us/iaas/data-science/using/data-science.htm\">Data Science Service Documentation</a></li>\n",
    "<li><a href=\"https://docs.cloud.oracle.com/iaas/tools/ads-sdk/latest/index.html\">ADS documentation</a></li>\n",
    "</ul>\n",
    "</details>\n",
    "<details>\n",
    "<summary><font size=\"2\">Typical Cell Imports and Settings for ADS</font></summary>\n",
    "\n",
    "```python\n",
    "%load_ext autoreload\n",
    "%autoreload 2\n",
    "%matplotlib inline\n",
    "\n",
    "import warnings\n",
    "warnings.filterwarnings('ignore')\n",
    "\n",
    "import logging\n",
    "logging.basicConfig(format='%(levelname)s:%(message)s', level=logging.ERROR)\n",
    "\n",
    "import ads\n",
    "from ads.dataset.factory import DatasetFactory\n",
    "from ads.automl.provider import OracleAutoMLProvider\n",
    "from ads.automl.driver import AutoML\n",
    "from ads.evaluations.evaluator import ADSEvaluator\n",
    "from ads.common.data import ADSData\n",
    "from ads.explanations.explainer import ADSExplainer\n",
    "from ads.explanations.mlx_global_explainer import MLXGlobalExplainer\n",
    "from ads.explanations.mlx_local_explainer import MLXLocalExplainer\n",
    "from ads.catalog.model import ModelCatalog\n",
    "from ads.common.model_artifact import ModelArtifact\n",
    "```\n",
    "</details>\n",
    "<details>\n",
    "<summary><font size=\"2\">Useful Environment Variables</font></summary>\n",
    "\n",
    "```python\n",
    "import os\n",
    "print(os.environ[\"NB_SESSION_COMPARTMENT_OCID\"])\n",
    "print(os.environ[\"PROJECT_OCID\"])\n",
    "print(os.environ[\"USER_OCID\"])\n",
    "print(os.environ[\"TENANCY_OCID\"])\n",
    "print(os.environ[\"NB_REGION\"])\n",
    "```\n",
    "</details>"
   ]
  },
  {
   "cell_type": "code",
   "execution_count": 2,
   "id": "8bc30346",
   "metadata": {},
   "outputs": [],
   "source": [
    "user_tenancy_id = '' \n",
    "user_id = '' \n",
    "user_fingerprint = ''\n",
    "user_private_key_file_location = '\n",
    "\n"
   ]
  },
  {
   "cell_type": "code",
   "execution_count": 3,
   "id": "67bf56fd",
   "metadata": {},
   "outputs": [
    {
     "data": {
      "text/plain": [
       "<oci.signer.Signer at 0x7fccd47e81d0>"
      ]
     },
     "execution_count": 3,
     "metadata": {},
     "output_type": "execute_result"
    }
   ],
   "source": [
    "# user_private_key_file_location = 'your_private_key.pem'\n",
    "auth = Signer(\n",
    "    tenancy= user_tenancy_id,\n",
    "    user= user_id,\n",
    "    fingerprint= user_fingerprint,\n",
    "    private_key_file_location= user_private_key_file_location,\n",
    "    pass_phrase= None\n",
    ")\n",
    "\n",
    "auth"
   ]
  },
  {
   "cell_type": "markdown",
   "id": "c76b684e",
   "metadata": {},
   "source": [
    "## Create Project\n",
    "#### We don't need to create new projects everytime we run this notebook. A project id once created can be used again and again.\n"
   ]
  },
  {
   "cell_type": "code",
   "execution_count": 4,
   "id": "8937be98",
   "metadata": {},
   "outputs": [],
   "source": [
    "url = \"https://forecasting.aiservice.us-phoenix-1.oci.oraclecloud.com/20220101/projects\" #Prod\n",
    "payload = json.dumps({\n",
    "  \"displayName\": \"Forecast LA Demo - LiveLabs\",\n",
    "  \"compartmentId\": '', #tenancy id of environment where you will create project will go here\n",
    "  \"description\": \"Forecasting Service LA LiveLabs Demo Project\",\n",
    "  \"freeformTags\": None,\n",
    "  \"definedTags\": None,\n",
    "  \"systemTags\": None\n",
    "})\n",
    "headers = {\n",
    "  'Content-Type': 'application/json'\n",
    "}\n",
    "response = requests.request(\"POST\", url, headers=headers, data=payload, auth=auth)\n",
    "create_project_response = json.loads(response.text)\n",
    "project_id = create_project_response['id']"
   ]
  },
  {
   "cell_type": "code",
   "execution_count": 8,
   "id": "d088ac2c",
   "metadata": {},
   "outputs": [],
   "source": [
    "df_primary = pd.read_csv('primary-15-AUTOMOTIVE.csv')\n",
    "df_add = pd.read_csv('add-15-AUTOMOTIVE.csv')\n"
   ]
  },
  {
   "cell_type": "markdown",
   "id": "eb1d104b",
   "metadata": {},
   "source": [
    "### Modify date format  to required format \"yyyy-mm-dd hh:mm:ss\" for inline data\n"
   ]
  },
  {
   "cell_type": "code",
   "execution_count": 9,
   "id": "c0fc3c86",
   "metadata": {},
   "outputs": [],
   "source": [
    "### Do below only if Date not in required format\n",
    "# df_primary['date'] = pd.to_datetime(df_primary['date'],format='%d/%m/%y').apply(lambda x: str(x))\n",
    "df_primary.sort_values(by = \"date\" , inplace = True)          \n",
    "# df_add['date'] = pd.to_datetime(df_add['date'],format='%d/%m/%y').apply(lambda x: str(x))\n",
    "df_add.sort_values(by = \"date\" , inplace = True) \n",
    "\n"
   ]
  },
  {
   "cell_type": "code",
   "execution_count": 10,
   "id": "e7cbf197",
   "metadata": {},
   "outputs": [],
   "source": [
    "#primary data\n",
    "prim_load = df_primary.values.transpose().tolist()"
   ]
  },
  {
   "cell_type": "code",
   "execution_count": 11,
   "id": "d3b78fe7",
   "metadata": {},
   "outputs": [],
   "source": [
    "#additional data\n",
    "add_load = df_add.values.transpose().tolist()"
   ]
  },
  {
   "cell_type": "code",
   "execution_count": 12,
   "id": "0918219e",
   "metadata": {},
   "outputs": [],
   "source": [
    " #tenancy id of environment where you create forecast will go here\n",
    " compartment_id = ''"
   ]
  },
  {
   "cell_type": "code",
   "execution_count": 13,
   "id": "6ee1f6ba",
   "metadata": {},
   "outputs": [],
   "source": [
    "date_col = 'date'\n",
    "target_col = 'sales'\n",
    "id_col = 'item_id'\n",
    "data_frequency = 'DAY'\n",
    "forecast_frequency = 'DAY'\n",
    "forecast_horizon  = 14\n",
    "forecast_name = \"Inline Forecasting Service API LA Live Labs \""
   ]
  },
  {
   "cell_type": "code",
   "execution_count": 14,
   "id": "75018aa3",
   "metadata": {},
   "outputs": [
    {
     "name": "stdout",
     "output_type": "stream",
     "text": [
      "CPU times: user 27 ms, sys: 6.18 ms, total: 33.2 ms\n",
      "Wall time: 4.81 s\n"
     ]
    }
   ],
   "source": [
    "%%time\n",
    "\n",
    "url = \"https://forecasting.aiservice.us-phoenix-1.oci.oraclecloud.com/20220101/forecasts\"\n",
    "\n",
    "payload = simplejson.dumps(\n",
    "{\n",
    "\"displayName\": forecast_name,\n",
    "\"compartmentId\": compartment_id,\n",
    "\"projectId\": project_id,\n",
    "\"forecastCreationDetails\": {\n",
    "    \"areCSVResultFilesRequired\": True,\n",
    "    \"forecastHorizon\": forecast_horizon,\n",
    "    \"confidenceInterval\": \"90\",\n",
    "    \"errorMeasure\": \"RMSE\",\n",
    "    \"forecastTechnique\": \"ROCV\",\n",
    "    \"forecastFrequency\": forecast_frequency,\n",
    "    \"isForecastExplanationRequired\": True,\n",
    "    \"modelDetails\": {\n",
    "        \"models\": [\n",
    "                \"SMA\",\n",
    "                \"DMA\",\n",
    "                \"HWSM\",\n",
    "                \"HWSA\",\n",
    "                \"SES\",\n",
    "                \"DES\",\n",
    "                \"PROPHET\"\n",
    "        ]\n",
    "    },\n",
    "    \"dataSourceDetails\": {\n",
    "        \"type\": \"INLINE\",\n",
    "        \"primaryDataSource\": {\n",
    "            \"columnData\": prim_load,\n",
    "            \"isDataGrouped\": True,\n",
    "            \"tsColName\": date_col,\n",
    "            \"tsColFormat\": \"yyyy-MM-dd HH:mm:ss\",\n",
    "            \"dataFrequency\": data_frequency,\n",
    "            \"columnSchema\": [\n",
    "                    {\n",
    "                        \"columnName\": id_col,\n",
    "                        \"dataType\": \"STRING\"\n",
    "                    },\n",
    "                    {\n",
    "                        \"columnName\": date_col,\n",
    "                        \"dataType\": \"DATE\"\n",
    "                    },\n",
    "                    {\n",
    "                        \"columnName\": target_col,\n",
    "                        \"dataType\": \"INT\"\n",
    "                    }\n",
    "                ]\n",
    "        },\n",
    "        \"additionalDataSource\": {\n",
    "            \"columnData\": add_load,\n",
    "            \"isDataGrouped\": True,\n",
    "            \"tsColName\": date_col,\n",
    "            \"tsColFormat\": \"yyyy-MM-dd HH:mm:ss\",\n",
    "            \"dataFrequency\": data_frequency,\n",
    "            \"columnSchema\": [\n",
    "                    {\n",
    "                        \"columnName\": id_col,\n",
    "                        \"dataType\": \"STRING\"\n",
    "                    },\n",
    "                    {\n",
    "                        \"columnName\": \"date\",\n",
    "                        \"dataType\": \"DATE\"\n",
    "                    },\n",
    "                    {\n",
    "                        \"columnName\": \"onpromotion\",\n",
    "                        \"dataType\": \"INT\"\n",
    "                    }\n",
    "                ]\n",
    "        }\n",
    "\n",
    "    },\n",
    "    \"targetVariables\": [\n",
    "        target_col\n",
    "    ]\n",
    "}\n",
    "}\n",
    "    , ignore_nan=True\n",
    ")\n",
    "\n",
    "headers = {\n",
    "  'Content-Type': 'application/json'\n",
    "}\n",
    "\n",
    "response = requests.request(\"POST\", url, headers=headers, data=payload, auth=auth)"
   ]
  },
  {
   "cell_type": "code",
   "execution_count": 15,
   "id": "cf30f053",
   "metadata": {},
   "outputs": [],
   "source": [
    "create_forecast_response = json.loads(response.text)\n"
   ]
  },
  {
   "cell_type": "code",
   "execution_count": 2,
   "id": "302e2e4e",
   "metadata": {},
   "outputs": [],
   "source": [
    "create_forecast_id = create_forecast_response['id']\n",
    "print(create_forecast_id)"
   ]
  },
  {
   "cell_type": "code",
   "execution_count": 3,
   "id": "850f19cc",
   "metadata": {},
   "outputs": [],
   "source": [
    "create_forecast_id = create_forecast_response['id']\n",
    "url = \"https://forecasting.aiservice.us-phoenix-1.oci.oraclecloud.com/20220101/forecasts/{}\".format(create_forecast_id)\n",
    "\n",
    "payload={}\n",
    "headers = {}\n",
    "\n",
    "response = requests.request(\"GET\", url, headers=headers, data=payload, auth=auth)\n",
    "get_forecast_response = json.loads(response.text)\n",
    "get_forecast_response"
   ]
  },
  {
   "cell_type": "code",
   "execution_count": 4,
   "id": "c5da5acc",
   "metadata": {},
   "outputs": [],
   "source": [
    "df_forecasts = pd.DataFrame({'forecast_dates':[],'upper':[],'lower':[],'forecast':[], 'series_id':[]})\n",
    "for i in range(len(get_forecast_response['forecastResult']['forecastSeries'])):\n",
    "    group = get_forecast_response['forecastResult']['forecastSeries'][i]['targetColumn']\n",
    "    point_forecast = get_forecast_response['forecastResult']['forecastSeries'][i]['values']\n",
    "    pred_intervals = pd.DataFrame(get_forecast_response['forecastResult']\n",
    "                            ['forecastSeries'][i]['predictionInterval'],dtype=float)\n",
    "    out = pd.DataFrame({\"lower\" : list(pred_intervals.lower.tolist()[0]),\"upper\" : list(pred_intervals.upper.tolist()[0])}) #pred_intervals.explode(['lower','upper'])\n",
    "    out['forecast'] = point_forecast\n",
    "    out.reset_index(inplace=True, drop=True)\n",
    "    forecast_dates = pd.DataFrame({'forecast_dates':get_forecast_response['forecastResult']['forecastSeries'][i]['dates']})\n",
    "    forecasts = pd.concat([forecast_dates,out],axis=1)\n",
    "    forecasts['series_id'] = group\n",
    "    df_forecasts = df_forecasts.append(forecasts, ignore_index = False)\n",
    "\n",
    "file_name = 'forecast_demo.csv'\n",
    "df_forecasts.to_csv(file_name, index = None)\n",
    "df_forecasts"
   ]
  },
  {
   "cell_type": "code",
   "execution_count": 5,
   "id": "56772a0c",
   "metadata": {},
   "outputs": [],
   "source": [
    "get_forecast_response['forecastResult']['metrics']['targetColumns']"
   ]
  },
  {
   "cell_type": "code",
   "execution_count": 6,
   "id": "bfbfe5c1",
   "metadata": {},
   "outputs": [],
   "source": [
    "url = \"https://forecasting.aiservice.us-phoenix-1.oci.oraclecloud.com/20220101/forecasts/{}/explanations/\".format(create_forecast_id)\n",
    "\n",
    "payload={}\n",
    "headers = {}\n",
    "response = requests.request(\"GET\", url, headers=headers, data=payload, auth=auth)\n",
    "get_forecast_explanations = json.loads(response.text)\n",
    "get_forecast_explanations"
   ]
  },
  {
   "cell_type": "markdown",
   "id": "468c86fd",
   "metadata": {},
   "source": [
    "# Global Feature Importance"
   ]
  },
  {
   "cell_type": "code",
   "execution_count": 8,
   "id": "a495aa9d",
   "metadata": {},
   "outputs": [],
   "source": [
    "import plotly.express as px\n",
    "import plotly.graph_objects as go\n",
    "\n",
    "def plot_global_feature_importance(get_forecast_explanations):\n",
    "    df_imps = pd.DataFrame()\n",
    "    global_feature_importance = get_forecast_explanations['explanations'][0]['globalFeatureImportance']['influencingFeatures']\n",
    "    df_imps['Feature_Importance'] = global_feature_importance.values()\n",
    "    df_imps[\"Feature_Importance\"] = df_imps[\"Feature_Importance\"].apply(lambda x:x[\"normalizedScore\"])\n",
    "    feature_names = global_feature_importance.keys()\n",
    "    df_imps['Features'] = feature_names\n",
    "\n",
    "    title = \"Global Feature Importance for Timestep \"\n",
    "    fig = px.bar(df_imps, y=\"Features\", x='Feature_Importance', title=title)\n",
    "    fig.update_traces(marker_color='lightsalmon')\n",
    "    fig.show()\n",
    "\n",
    "plot_global_feature_importance(get_forecast_explanations)"
   ]
  },
  {
   "cell_type": "code",
   "execution_count": 7,
   "id": "6ecfdcbe",
   "metadata": {},
   "outputs": [],
   "source": [
    "import plotly.express as px\n",
    "import plotly.graph_objects as go\n",
    "import numpy as np\n",
    "\n",
    "def plot_local_feature_importance(get_forecast_explanations, time_step):\n",
    "    df_imps = pd.DataFrame()\n",
    "    local_feature_importance = get_forecast_explanations['explanations'][0]['localFeatureImportance']['influencingFeatures'][time_step]\n",
    "    df_imps['Feature_Importance'] = local_feature_importance.values()\n",
    "    df_imps[\"Feature_Importance\"] = df_imps[\"Feature_Importance\"].apply(lambda x:x[\"normalizedScore\"])\n",
    "    feature_names = local_feature_importance.keys()\n",
    "    df_imps['Features'] = feature_names\n",
    "\n",
    "    title = \"Local Feature Importance for Timestep \" + str(time_step)\n",
    "    fig = px.bar(df_imps, y=\"Features\", x='Feature_Importance', title=title)\n",
    "    fig.update_traces(marker_color='lightsalmon')\n",
    "    fig.show()\n",
    "\n",
    "time_step = 2\n",
    "\n",
    "plot_local_feature_importance(get_forecast_explanations, time_step)"
   ]
  }
 ],
 "metadata": {
  "interpreter": {
   "hash": "47003fe6832e054e231b1bf9c94cffa19f18797802c321a3995d7120e43f78f4"
  },
  "kernelspec": {
   "display_name": "Python 3.7.6 64-bit ('base': conda)",
   "name": "python3"
  },
  "language_info": {
   "codemirror_mode": {
    "name": "ipython",
    "version": 3
   },
   "file_extension": ".py",
   "mimetype": "text/x-python",
   "name": "python",
   "nbconvert_exporter": "python",
   "pygments_lexer": "ipython3",
   "version": "3.7.6"
  }
 },
 "nbformat": 4,
 "nbformat_minor": 5
}
