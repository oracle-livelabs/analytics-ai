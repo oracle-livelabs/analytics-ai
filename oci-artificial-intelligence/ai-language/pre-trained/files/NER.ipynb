{
 "cells": [
  {
   "cell_type": "markdown",
   "id": "noble-animal",
   "metadata": {},
   "source": [
    "### OCI Data Science - Useful Tips\n",
    "<details>\n",
    "<summary><font size=\"2\">Check for Public Internet Access</font></summary>\n",
    "\n",
    "```python\n",
    "import requests\n",
    "response = requests.get(\"https://oracle.com\")\n",
    "assert response.status_code==200, \"Internet connection failed\"\n",
    "```\n",
    "</details>\n",
    "<details>\n",
    "<summary><font size=\"2\">Helpful Documentation </font></summary>\n",
    "<ul><li><a href=\"https://docs.cloud.oracle.com/en-us/iaas/data-science/using/data-science.htm\">Data Science Service Documentation</a></li>\n",
    "<li><a href=\"https://docs.cloud.oracle.com/iaas/tools/ads-sdk/latest/index.html\">ADS documentation</a></li>\n",
    "</ul>\n",
    "</details>\n",
    "<details>\n",
    "<summary><font size=\"2\">Typical Cell Imports and Settings for ADS</font></summary>\n",
    "\n",
    "```python\n",
    "%load_ext autoreload\n",
    "%autoreload 2\n",
    "%matplotlib inline\n",
    "\n",
    "import warnings\n",
    "warnings.filterwarnings('ignore')\n",
    "\n",
    "import logging\n",
    "logging.basicConfig(format='%(levelname)s:%(message)s', level=logging.ERROR)\n",
    "\n",
    "import ads\n",
    "from ads.dataset.factory import DatasetFactory\n",
    "from ads.automl.provider import OracleAutoMLProvider\n",
    "from ads.automl.driver import AutoML\n",
    "from ads.evaluations.evaluator import ADSEvaluator\n",
    "from ads.common.data import ADSData\n",
    "from ads.explanations.explainer import ADSExplainer\n",
    "from ads.explanations.mlx_global_explainer import MLXGlobalExplainer\n",
    "from ads.explanations.mlx_local_explainer import MLXLocalExplainer\n",
    "from ads.catalog.model import ModelCatalog\n",
    "from ads.common.model_artifact import ModelArtifact\n",
    "```\n",
    "</details>\n",
    "<details>\n",
    "<summary><font size=\"2\">Useful Environment Variables</font></summary>\n",
    "\n",
    "```python\n",
    "import os\n",
    "print(os.environ[\"NB_SESSION_COMPARTMENT_OCID\"])\n",
    "print(os.environ[\"PROJECT_OCID\"])\n",
    "print(os.environ[\"USER_OCID\"])\n",
    "print(os.environ[\"TENANCY_OCID\"])\n",
    "print(os.environ[\"NB_REGION\"])\n",
    "```\n",
    "</details>"
   ]
  },
  {
   "cell_type": "code",
   "execution_count": null,
   "id": "surface-ivory",
   "metadata": {},
   "outputs": [],
   "source": [
    "# In this notebook, you will learn to call OCI Language from a Data Science Notebook, and how to do analysis on the data.\n",
    "# More specifically, in this exercise you will ingest a set of hotel reviews, use OCI Language to identify the named entities in those reviews, and identify the most popular entities mentioned.\n",
    "# You will not need to write any code from scratch, but we expect you to read the code and understand what we are doing. You can click Shift+Enter on each cell to run the code in the cell."
   ]
  },
  {
   "cell_type": "code",
   "execution_count": null,
   "id": "biblical-stock",
   "metadata": {},
   "outputs": [],
   "source": [
    "# Installing required libraries\n",
    "!pip install pandas\n",
    "!pip install ipymarkup\n",
    "!pip install matplotlib"
   ]
  },
  {
   "cell_type": "code",
   "execution_count": null,
   "id": "interested-witness",
   "metadata": {},
   "outputs": [],
   "source": [
    "import oci\n",
    "import pandas as pd\n",
    "from ipymarkup import show_ascii_markup\n",
    "from ipymarkup import show_box_markup\n",
    "from matplotlib import pyplot as plt"
   ]
  },
  {
   "cell_type": "code",
   "execution_count": 79,
   "id": "distributed-valve",
   "metadata": {},
   "outputs": [],
   "source": [
    "Data = pd.read_csv('Data.csv')"
   ]
  },
  {
   "cell_type": "code",
   "execution_count": 78,
   "id": "exciting-individual",
   "metadata": {},
   "outputs": [],
   "source": [
    "Data.to_csv('e.csv', index=False)"
   ]
  },
  {
   "cell_type": "code",
   "execution_count": 74,
   "id": "breathing-sector",
   "metadata": {},
   "outputs": [],
   "source": [
    "Data.loc[Data.Reviews == \"1000\", 'Reviews'] = \"6\""
   ]
  },
  {
   "cell_type": "code",
   "execution_count": 80,
   "id": "outdoor-karma",
   "metadata": {},
   "outputs": [
    {
     "data": {
      "text/html": [
       "<div>\n",
       "<style scoped>\n",
       "    .dataframe tbody tr th:only-of-type {\n",
       "        vertical-align: middle;\n",
       "    }\n",
       "\n",
       "    .dataframe tbody tr th {\n",
       "        vertical-align: top;\n",
       "    }\n",
       "\n",
       "    .dataframe thead th {\n",
       "        text-align: right;\n",
       "    }\n",
       "</style>\n",
       "<table border=\"1\" class=\"dataframe\">\n",
       "  <thead>\n",
       "    <tr style=\"text-align: right;\">\n",
       "      <th></th>\n",
       "      <th>id</th>\n",
       "      <th>dateAdded</th>\n",
       "      <th>dateUpdated</th>\n",
       "      <th>address</th>\n",
       "      <th>categories</th>\n",
       "      <th>primaryCategories</th>\n",
       "      <th>city</th>\n",
       "      <th>country</th>\n",
       "      <th>keys</th>\n",
       "      <th>latitude</th>\n",
       "      <th>...</th>\n",
       "      <th>reviews.dateSeen</th>\n",
       "      <th>reviews.rating</th>\n",
       "      <th>reviews.sourceURLs</th>\n",
       "      <th>Reviews</th>\n",
       "      <th>reviews.title</th>\n",
       "      <th>reviews.userCity</th>\n",
       "      <th>reviews.userProvince</th>\n",
       "      <th>reviews.username</th>\n",
       "      <th>sourceURLs</th>\n",
       "      <th>websites</th>\n",
       "    </tr>\n",
       "  </thead>\n",
       "  <tbody>\n",
       "    <tr>\n",
       "      <th>0</th>\n",
       "      <td>AWV8VsCtRxPSIh2RyTvS</td>\n",
       "      <td>2018-08-27T17:01:16Z</td>\n",
       "      <td>2019-05-20T21:40:08Z</td>\n",
       "      <td>610 Poydras St</td>\n",
       "      <td>Building,Hotels and motels,Hotel</td>\n",
       "      <td>Accommodation &amp; Food Services</td>\n",
       "      <td>New Orleans</td>\n",
       "      <td>US</td>\n",
       "      <td>us/la/neworleans/610poydrasst/-946012914</td>\n",
       "      <td>29.949125</td>\n",
       "      <td>...</td>\n",
       "      <td>2018-11-06T00:00:00Z,2018-08-26T00:00:00Z</td>\n",
       "      <td>3</td>\n",
       "      <td>https://www.tripadvisor.com/Hotel_Review-g6086...</td>\n",
       "      <td>The water is very hot and there's no cold wate...</td>\n",
       "      <td>Very hot water, bad food</td>\n",
       "      <td>Honolulu</td>\n",
       "      <td>Hawaii</td>\n",
       "      <td>Stacy D</td>\n",
       "      <td>https://www.tripadvisor.com/Hotel_Review-g6086...</td>\n",
       "      <td>http://www.whitneyhotel.com/,http://www.whitne...</td>\n",
       "    </tr>\n",
       "    <tr>\n",
       "      <th>1</th>\n",
       "      <td>AWV8VsCtRxPSIh2RyTvS</td>\n",
       "      <td>2018-08-27T17:01:16Z</td>\n",
       "      <td>2019-05-20T21:40:08Z</td>\n",
       "      <td>610 Poydras St</td>\n",
       "      <td>Building,Hotels and motels,Hotel</td>\n",
       "      <td>Accommodation &amp; Food Services</td>\n",
       "      <td>New Orleans</td>\n",
       "      <td>US</td>\n",
       "      <td>us/la/neworleans/610poydrasst/-946012914</td>\n",
       "      <td>29.949125</td>\n",
       "      <td>...</td>\n",
       "      <td>2018-11-06T00:00:00Z</td>\n",
       "      <td>5</td>\n",
       "      <td>https://www.tripadvisor.com/Hotel_Review-g6086...</td>\n",
       "      <td>Great staff and rooms. Housekeeping was always...</td>\n",
       "      <td>Excellent hotel</td>\n",
       "      <td>New York City</td>\n",
       "      <td>NewYork</td>\n",
       "      <td>brand0nstark</td>\n",
       "      <td>https://www.tripadvisor.com/Hotel_Review-g6086...</td>\n",
       "      <td>http://www.whitneyhotel.com/,http://www.whitne...</td>\n",
       "    </tr>\n",
       "    <tr>\n",
       "      <th>2</th>\n",
       "      <td>AWV8VsCtRxPSIh2RyTvS</td>\n",
       "      <td>2018-08-27T17:01:16Z</td>\n",
       "      <td>2019-05-20T21:40:08Z</td>\n",
       "      <td>610 Poydras St</td>\n",
       "      <td>Building,Hotels and motels,Hotel</td>\n",
       "      <td>Accommodation &amp; Food Services</td>\n",
       "      <td>New Orleans</td>\n",
       "      <td>US</td>\n",
       "      <td>us/la/neworleans/610poydrasst/-946012914</td>\n",
       "      <td>29.949125</td>\n",
       "      <td>...</td>\n",
       "      <td>2018-11-06T00:00:00Z,2018-08-26T00:00:00Z</td>\n",
       "      <td>2</td>\n",
       "      <td>https://www.tripadvisor.com/Hotel_Review-g6086...</td>\n",
       "      <td>This Hotel, formerly a prestigious bank, may b...</td>\n",
       "      <td>Historic but uncomfortable</td>\n",
       "      <td>Arlington</td>\n",
       "      <td>Texas</td>\n",
       "      <td>RobertKestenbaum</td>\n",
       "      <td>https://www.tripadvisor.com/Hotel_Review-g6086...</td>\n",
       "      <td>http://www.whitneyhotel.com/,http://www.whitne...</td>\n",
       "    </tr>\n",
       "    <tr>\n",
       "      <th>3</th>\n",
       "      <td>AWV8VsCtRxPSIh2RyTvS</td>\n",
       "      <td>2018-08-27T17:01:16Z</td>\n",
       "      <td>2019-05-20T21:40:08Z</td>\n",
       "      <td>610 Poydras St</td>\n",
       "      <td>Building,Hotels and motels,Hotel</td>\n",
       "      <td>Accommodation &amp; Food Services</td>\n",
       "      <td>New Orleans</td>\n",
       "      <td>US</td>\n",
       "      <td>us/la/neworleans/610poydrasst/-946012914</td>\n",
       "      <td>29.949125</td>\n",
       "      <td>...</td>\n",
       "      <td>2018-11-06T00:00:00Z,2018-08-26T00:00:00Z</td>\n",
       "      <td>4</td>\n",
       "      <td>https://www.tripadvisor.com/Hotel_Review-g6086...</td>\n",
       "      <td>Very accommodating staff. Competitive pricing ...</td>\n",
       "      <td>Accomations</td>\n",
       "      <td>Des Moines</td>\n",
       "      <td>Washington</td>\n",
       "      <td>donp638</td>\n",
       "      <td>https://www.tripadvisor.com/Hotel_Review-g6086...</td>\n",
       "      <td>http://www.whitneyhotel.com/,http://www.whitne...</td>\n",
       "    </tr>\n",
       "    <tr>\n",
       "      <th>4</th>\n",
       "      <td>AWV8VsCtRxPSIh2RyTvS</td>\n",
       "      <td>2018-08-27T17:01:16Z</td>\n",
       "      <td>2019-05-20T21:40:08Z</td>\n",
       "      <td>610 Poydras St</td>\n",
       "      <td>Building,Hotels and motels,Hotel</td>\n",
       "      <td>Accommodation &amp; Food Services</td>\n",
       "      <td>New Orleans</td>\n",
       "      <td>US</td>\n",
       "      <td>us/la/neworleans/610poydrasst/-946012914</td>\n",
       "      <td>29.949125</td>\n",
       "      <td>...</td>\n",
       "      <td>2018-11-06T00:00:00Z,2018-08-26T00:00:00Z</td>\n",
       "      <td>4</td>\n",
       "      <td>https://www.tripadvisor.com/Hotel_Review-g6086...</td>\n",
       "      <td>Room was much larger than I expected, and wate...</td>\n",
       "      <td>Great Room at Great Location</td>\n",
       "      <td>Philadelphia</td>\n",
       "      <td>Pennsylvania</td>\n",
       "      <td>B1962UTvictoriaa</td>\n",
       "      <td>https://www.tripadvisor.com/Hotel_Review-g6086...</td>\n",
       "      <td>http://www.whitneyhotel.com/,http://www.whitne...</td>\n",
       "    </tr>\n",
       "  </tbody>\n",
       "</table>\n",
       "<p>5 rows × 26 columns</p>\n",
       "</div>"
      ],
      "text/plain": [
       "                     id             dateAdded           dateUpdated  \\\n",
       "0  AWV8VsCtRxPSIh2RyTvS  2018-08-27T17:01:16Z  2019-05-20T21:40:08Z   \n",
       "1  AWV8VsCtRxPSIh2RyTvS  2018-08-27T17:01:16Z  2019-05-20T21:40:08Z   \n",
       "2  AWV8VsCtRxPSIh2RyTvS  2018-08-27T17:01:16Z  2019-05-20T21:40:08Z   \n",
       "3  AWV8VsCtRxPSIh2RyTvS  2018-08-27T17:01:16Z  2019-05-20T21:40:08Z   \n",
       "4  AWV8VsCtRxPSIh2RyTvS  2018-08-27T17:01:16Z  2019-05-20T21:40:08Z   \n",
       "\n",
       "          address                        categories  \\\n",
       "0  610 Poydras St  Building,Hotels and motels,Hotel   \n",
       "1  610 Poydras St  Building,Hotels and motels,Hotel   \n",
       "2  610 Poydras St  Building,Hotels and motels,Hotel   \n",
       "3  610 Poydras St  Building,Hotels and motels,Hotel   \n",
       "4  610 Poydras St  Building,Hotels and motels,Hotel   \n",
       "\n",
       "               primaryCategories         city country  \\\n",
       "0  Accommodation & Food Services  New Orleans      US   \n",
       "1  Accommodation & Food Services  New Orleans      US   \n",
       "2  Accommodation & Food Services  New Orleans      US   \n",
       "3  Accommodation & Food Services  New Orleans      US   \n",
       "4  Accommodation & Food Services  New Orleans      US   \n",
       "\n",
       "                                       keys   latitude  ...  \\\n",
       "0  us/la/neworleans/610poydrasst/-946012914  29.949125  ...   \n",
       "1  us/la/neworleans/610poydrasst/-946012914  29.949125  ...   \n",
       "2  us/la/neworleans/610poydrasst/-946012914  29.949125  ...   \n",
       "3  us/la/neworleans/610poydrasst/-946012914  29.949125  ...   \n",
       "4  us/la/neworleans/610poydrasst/-946012914  29.949125  ...   \n",
       "\n",
       "                            reviews.dateSeen reviews.rating  \\\n",
       "0  2018-11-06T00:00:00Z,2018-08-26T00:00:00Z              3   \n",
       "1                       2018-11-06T00:00:00Z              5   \n",
       "2  2018-11-06T00:00:00Z,2018-08-26T00:00:00Z              2   \n",
       "3  2018-11-06T00:00:00Z,2018-08-26T00:00:00Z              4   \n",
       "4  2018-11-06T00:00:00Z,2018-08-26T00:00:00Z              4   \n",
       "\n",
       "                                  reviews.sourceURLs  \\\n",
       "0  https://www.tripadvisor.com/Hotel_Review-g6086...   \n",
       "1  https://www.tripadvisor.com/Hotel_Review-g6086...   \n",
       "2  https://www.tripadvisor.com/Hotel_Review-g6086...   \n",
       "3  https://www.tripadvisor.com/Hotel_Review-g6086...   \n",
       "4  https://www.tripadvisor.com/Hotel_Review-g6086...   \n",
       "\n",
       "                                             Reviews  \\\n",
       "0  The water is very hot and there's no cold wate...   \n",
       "1  Great staff and rooms. Housekeeping was always...   \n",
       "2  This Hotel, formerly a prestigious bank, may b...   \n",
       "3  Very accommodating staff. Competitive pricing ...   \n",
       "4  Room was much larger than I expected, and wate...   \n",
       "\n",
       "                  reviews.title  reviews.userCity reviews.userProvince  \\\n",
       "0      Very hot water, bad food          Honolulu               Hawaii   \n",
       "1               Excellent hotel     New York City              NewYork   \n",
       "2    Historic but uncomfortable         Arlington                Texas   \n",
       "3                   Accomations        Des Moines           Washington   \n",
       "4  Great Room at Great Location      Philadelphia         Pennsylvania   \n",
       "\n",
       "   reviews.username                                         sourceURLs  \\\n",
       "0           Stacy D  https://www.tripadvisor.com/Hotel_Review-g6086...   \n",
       "1      brand0nstark  https://www.tripadvisor.com/Hotel_Review-g6086...   \n",
       "2  RobertKestenbaum  https://www.tripadvisor.com/Hotel_Review-g6086...   \n",
       "3           donp638  https://www.tripadvisor.com/Hotel_Review-g6086...   \n",
       "4  B1962UTvictoriaa  https://www.tripadvisor.com/Hotel_Review-g6086...   \n",
       "\n",
       "                                            websites  \n",
       "0  http://www.whitneyhotel.com/,http://www.whitne...  \n",
       "1  http://www.whitneyhotel.com/,http://www.whitne...  \n",
       "2  http://www.whitneyhotel.com/,http://www.whitne...  \n",
       "3  http://www.whitneyhotel.com/,http://www.whitne...  \n",
       "4  http://www.whitneyhotel.com/,http://www.whitne...  \n",
       "\n",
       "[5 rows x 26 columns]"
      ]
     },
     "execution_count": 80,
     "metadata": {},
     "output_type": "execute_result"
    }
   ],
   "source": [
    "#View 5 Data Points\n",
    "Data.head(5)"
   ]
  },
  {
   "cell_type": "code",
   "execution_count": 81,
   "id": "informed-error",
   "metadata": {},
   "outputs": [],
   "source": [
    "# Create Language service client with user config default values.\n",
    "ai_client = oci.ai_language.AIServiceLanguageClient(oci.config.from_file())"
   ]
  },
  {
   "cell_type": "code",
   "execution_count": 82,
   "id": "circular-journey",
   "metadata": {},
   "outputs": [],
   "source": [
    "#Detect Entities\n",
    "result=[]\n",
    "for data in Data.Reviews:\n",
    "    detect_language_entities_details = oci.ai_language.models.DetectLanguageEntitiesDetails(text=data)\n",
    "    output = ai_client.detect_language_entities(detect_language_entities_details)\n",
    "    result += [output.data]"
   ]
  },
  {
   "cell_type": "code",
   "execution_count": 83,
   "id": "severe-floor",
   "metadata": {},
   "outputs": [],
   "source": [
    "#Set the variable below to true if you only want PII\n",
    "show_PII = False"
   ]
  },
  {
   "cell_type": "code",
   "execution_count": 84,
   "id": "increasing-albert",
   "metadata": {},
   "outputs": [
    {
     "data": {
      "text/html": [
       "<div class=\"tex2jax_ignore\" style=\"white-space: pre-wrap\">The water is very hot and there&#x27;s no cold water at all... It&#x27;s awful.. The food is not good.. The staff is friendly and very nice.. More upscale items should be offered for the price of the room at <span style=\"padding: 2px; border-radius: 4px; border: 1px solid #bbdefb; background: #e3f2fd\">200<span style=\"vertical-align: middle; margin-left: 2px; font-size: 0.7em; color: #64b5f6;\">CARDINAL</span></span>. <span style=\"padding: 2px; border-radius: 4px; border: 1px solid #c8e6c9; background: #e8f5e9\">A night<span style=\"vertical-align: middle; margin-left: 2px; font-size: 0.7em; color: #66bb6a;\">TIME</span></span>! <span style=\"padding: 2px; border-radius: 4px; border: 1px solid #ffcdd2; background: #ffebee\">Snacks<span style=\"vertical-align: middle; margin-left: 2px; font-size: 0.7em; color: #e57373;\">PRODUCT</span></span>, <span style=\"padding: 2px; border-radius: 4px; border: 1px solid #ffcdd2; background: #ffebee\">toiletries<span style=\"vertical-align: middle; margin-left: 2px; font-size: 0.7em; color: #e57373;\">PRODUCT</span></span>, <span style=\"padding: 2px; border-radius: 4px; border: 1px solid #ffcdd2; background: #ffebee\">menus<span style=\"vertical-align: middle; margin-left: 2px; font-size: 0.7em; color: #e57373;\">PRODUCT</span></span> and <span style=\"padding: 2px; border-radius: 4px; border: 1px solid #ffcdd2; background: #ffebee\">food<span style=\"vertical-align: middle; margin-left: 2px; font-size: 0.7em; color: #e57373;\">PRODUCT</span></span> and <span style=\"padding: 2px; border-radius: 4px; border: 1px solid #ffcdd2; background: #ffebee\">drinks<span style=\"vertical-align: middle; margin-left: 2px; font-size: 0.7em; color: #e57373;\">PRODUCT</span></span> offered.. Promote your business... I&#x27;m sorry to hear we didn&#x27;t exceed your expectations but thank you for bringing these issues to our attention. We take your feedback seriously and will share it with the staff. I hope we&#x27;ll get another opportunity to make a better impression when you return to <span style=\"padding: 2px; border-radius: 4px; border: 1px solid #ffe0b2; background: #fff3e0\">New Orleans<span style=\"vertical-align: middle; margin-left: 2px; font-size: 0.7em; color: #ffb74d;\">GPE</span></span>. Feel free to contact me if you would like to discuss your stay further. Sincerely, <span style=\"padding: 2px; border-radius: 4px; border: 1px solid #d1c4e9; background: #ede7f6\">Casey A<span style=\"vertical-align: middle; margin-left: 2px; font-size: 0.7em; color: #9575cd;\">PERSON(PII)</span></span>. CallaisGeneral Manager</div>"
      ],
      "text/plain": [
       "<IPython.core.display.HTML object>"
      ]
     },
     "metadata": {},
     "output_type": "display_data"
    },
    {
     "name": "stdout",
     "output_type": "stream",
     "text": [
      "\n"
     ]
    },
    {
     "data": {
      "text/html": [
       "<div class=\"tex2jax_ignore\" style=\"white-space: pre-wrap\">Great staff and rooms. Housekeeping was always spot on--we never saw them come in, and it was in perfect order when we came back to our rooms. The hotel is close to everything, French Quarter, museums, business district, etc. And we got a GREAT price for our stay. It&#x27;s an excellent value--highly recommend to anyone visiting <span style=\"padding: 2px; border-radius: 4px; border: 1px solid #ffe0b2; background: #fff3e0\">New Orleans<span style=\"vertical-align: middle; margin-left: 2px; font-size: 0.7em; color: #ffb74d;\">GPE</span></span>!</div>"
      ],
      "text/plain": [
       "<IPython.core.display.HTML object>"
      ]
     },
     "metadata": {},
     "output_type": "display_data"
    },
    {
     "name": "stdout",
     "output_type": "stream",
     "text": [
      "\n"
     ]
    },
    {
     "data": {
      "text/html": [
       "<div class=\"tex2jax_ignore\" style=\"white-space: pre-wrap\">This <span style=\"padding: 2px; border-radius: 4px; border: 1px solid #d7ccc8; background: #efebe9\">Hotel<span style=\"vertical-align: middle; margin-left: 2px; font-size: 0.7em; color: #a1887f;\">FAC</span></span>, formerly a prestigious <span style=\"padding: 2px; border-radius: 4px; border: 1px solid #bbdefb; background: #e3f2fd\">bank<span style=\"vertical-align: middle; margin-left: 2px; font-size: 0.7em; color: #64b5f6;\">LOCATION</span></span>, may be attractive for history buffs, but is an expensive and horrible place to stay when you visit <span style=\"padding: 2px; border-radius: 4px; border: 1px solid #ffe0b2; background: #fff3e0\">New Orleans<span style=\"vertical-align: middle; margin-left: 2px; font-size: 0.7em; color: #ffb74d;\">GPE</span></span>. The rooms are SMALL, unattractive, with terrible old <span style=\"padding: 2px; border-radius: 4px; border: 1px solid #ffcdd2; background: #ffebee\">bedding<span style=\"vertical-align: middle; margin-left: 2px; font-size: 0.7em; color: #e57373;\">PRODUCT</span></span>, virtually without <span style=\"padding: 2px; border-radius: 4px; border: 1px solid #ffcdd2; background: #ffebee\">windows<span style=\"vertical-align: middle; margin-left: 2px; font-size: 0.7em; color: #e57373;\">PRODUCT</span></span> or amenities. Parking was <span style=\"padding: 2px; border-radius: 4px; border: 1px solid #c8e6c9; background: #e8f5e9\">38/day<span style=\"vertical-align: middle; margin-left: 2px; font-size: 0.7em; color: #66bb6a;\">DATE</span></span>, and it took <span style=\"padding: 2px; border-radius: 4px; border: 1px solid #c8e6c9; background: #e8f5e9\">35 min<span style=\"vertical-align: middle; margin-left: 2px; font-size: 0.7em; color: #66bb6a;\">DATE</span></span>. to get your <span style=\"padding: 2px; border-radius: 4px; border: 1px solid #ffcdd2; background: #ffebee\">vehicle<span style=\"vertical-align: middle; margin-left: 2px; font-size: 0.7em; color: #e57373;\">PRODUCT</span></span>. Almost no lobby or sitting area, the <span style=\"padding: 2px; border-radius: 4px; border: 1px solid #d7ccc8; background: #efebe9\">restaurant<span style=\"vertical-align: middle; margin-left: 2px; font-size: 0.7em; color: #a1887f;\">FAC</span></span> was small, understaffed, with a severely limited menu. The <span style=\"padding: 2px; border-radius: 4px; border: 1px solid #ffcdd2; background: #ffebee\">commode<span style=\"vertical-align: middle; margin-left: 2px; font-size: 0.7em; color: #e57373;\">PRODUCT</span></span> was crammed into a tiny <span style=\"padding: 2px; border-radius: 4px; border: 1px solid #d7ccc8; background: #efebe9\">bathroom<span style=\"vertical-align: middle; margin-left: 2px; font-size: 0.7em; color: #a1887f;\">FAC</span></span>, and we had to call down to get them to bring up an old beat-up <span style=\"padding: 2px; border-radius: 4px; border: 1px solid #ffcdd2; background: #ffebee\">refrigerator<span style=\"vertical-align: middle; margin-left: 2px; font-size: 0.7em; color: #e57373;\">PRODUCT</span></span>. There are SO Many other more attractive places to stay in <span style=\"padding: 2px; border-radius: 4px; border: 1px solid #ffe0b2; background: #fff3e0\">New Orleans<span style=\"vertical-align: middle; margin-left: 2px; font-size: 0.7em; color: #ffb74d;\">GPE</span></span>, less expensive, I would avoid this place like the plague.Thank you for your review. I&#x27;m sorry to hear that we did not exceed your expectations but we&#x27;ll use this information to provide better services in the future. Thank you for giving us the opportunity to hear about your visit. Sincerely,<span style=\"padding: 2px; border-radius: 4px; border: 1px solid #d1c4e9; background: #ede7f6\">Casey A<span style=\"vertical-align: middle; margin-left: 2px; font-size: 0.7em; color: #9575cd;\">PERSON(PII)</span></span>. CallaisGeneral Manager</div>"
      ],
      "text/plain": [
       "<IPython.core.display.HTML object>"
      ]
     },
     "metadata": {},
     "output_type": "display_data"
    },
    {
     "name": "stdout",
     "output_type": "stream",
     "text": [
      "\n"
     ]
    },
    {
     "data": {
      "text/html": [
       "<div class=\"tex2jax_ignore\" style=\"white-space: pre-wrap\">Very accommodating staff. Competitive pricing for downtown <span style=\"padding: 2px; border-radius: 4px; border: 1px solid #ffe0b2; background: #fff3e0\">N.O<span style=\"vertical-align: middle; margin-left: 2px; font-size: 0.7em; color: #ffb74d;\">GPE</span></span>. convenient location. Comfortable room. Good food in <span style=\"padding: 2px; border-radius: 4px; border: 1px solid #d7ccc8; background: #efebe9\">restaurant<span style=\"vertical-align: middle; margin-left: 2px; font-size: 0.7em; color: #a1887f;\">FAC</span></span>. Broken exercise equipment. &#x27;fitness club&#x27; is a <span style=\"padding: 2px; border-radius: 4px; border: 1px solid #ffcdd2; background: #ffebee\">bit<span style=\"vertical-align: middle; margin-left: 2px; font-size: 0.7em; color: #e57373;\">QUANTITY</span></span> of a misnomer. We can recommend this to anyone else for a good place to stay with great location for many attractions.Thank you very much for your comments about your most recent stay with us at the <span style=\"padding: 2px; border-radius: 4px; border: 1px solid #d7ccc8; background: #efebe9\">Whitney Hotel<span style=\"vertical-align: middle; margin-left: 2px; font-size: 0.7em; color: #a1887f;\">FAC</span></span>! We are working on getting updated exercise equipment and I&#x27;m sorry it wasn&#x27;t ready for you by the time you arrived. I am happy to hear that you had such an enjoyable stay overall and we hope to see you again the next time you come to <span style=\"padding: 2px; border-radius: 4px; border: 1px solid #ffe0b2; background: #fff3e0\">New Orleans<span style=\"vertical-align: middle; margin-left: 2px; font-size: 0.7em; color: #ffb74d;\">GPE</span></span>!<span style=\"padding: 2px; border-radius: 4px; border: 1px solid #ffe0b2; background: #fff3e0\">Sincerely<span style=\"vertical-align: middle; margin-left: 2px; font-size: 0.7em; color: #ffb74d;\">GPE</span></span>, <span style=\"padding: 2px; border-radius: 4px; border: 1px solid #d1c4e9; background: #ede7f6\">Casey A. CallaisGeneral<span style=\"vertical-align: middle; margin-left: 2px; font-size: 0.7em; color: #9575cd;\">PERSON(PII)</span></span> Manager</div>"
      ],
      "text/plain": [
       "<IPython.core.display.HTML object>"
      ]
     },
     "metadata": {},
     "output_type": "display_data"
    },
    {
     "name": "stdout",
     "output_type": "stream",
     "text": [
      "\n"
     ]
    },
    {
     "data": {
      "text/html": [
       "<div class=\"tex2jax_ignore\" style=\"white-space: pre-wrap\"><span style=\"padding: 2px; border-radius: 4px; border: 1px solid #d7ccc8; background: #efebe9\">Room<span style=\"vertical-align: middle; margin-left: 2px; font-size: 0.7em; color: #a1887f;\">FAC</span></span> was much larger than I expected, and <span style=\"padding: 2px; border-radius: 4px; border: 1px solid #ffcdd2; background: #ffebee\">water<span style=\"vertical-align: middle; margin-left: 2px; font-size: 0.7em; color: #e57373;\">PRODUCT</span></span> and <span style=\"padding: 2px; border-radius: 4px; border: 1px solid #ffcdd2; background: #ffebee\">fridge<span style=\"vertical-align: middle; margin-left: 2px; font-size: 0.7em; color: #e57373;\">PRODUCT</span></span> were offered for my <span style=\"padding: 2px; border-radius: 4px; border: 1px solid #d7ccc8; background: #efebe9\">room<span style=\"vertical-align: middle; margin-left: 2px; font-size: 0.7em; color: #a1887f;\">FAC</span></span> - had everything I needed. Nice basic breakfast was included. <span style=\"padding: 2px; border-radius: 4px; border: 1px solid #d7ccc8; background: #efebe9\">Room<span style=\"vertical-align: middle; margin-left: 2px; font-size: 0.7em; color: #a1887f;\">FAC</span></span> was very clean and everyone here was friendly! Would stay again. We&#x27;re thrilled to hear you had a great <span style=\"padding: 2px; border-radius: 4px; border: 1px solid #ffe0b2; background: #fff3e0\">New Orleans<span style=\"vertical-align: middle; margin-left: 2px; font-size: 0.7em; color: #ffb74d;\">GPE</span></span> experience at the <span style=\"padding: 2px; border-radius: 4px; border: 1px solid #d7ccc8; background: #efebe9\">Whitney Hotel<span style=\"vertical-align: middle; margin-left: 2px; font-size: 0.7em; color: #a1887f;\">FAC</span></span>. Thank you for mentioning the breakfast and the cleanliness of the rooms. Our staff strives for excellence and I&#x27;m glad to see that was provided. We hope to see you again soon. Sincerely, <span style=\"padding: 2px; border-radius: 4px; border: 1px solid #d1c4e9; background: #ede7f6\">Casey A<span style=\"vertical-align: middle; margin-left: 2px; font-size: 0.7em; color: #9575cd;\">PERSON(PII)</span></span>. CallaisGeneral Manager</div>"
      ],
      "text/plain": [
       "<IPython.core.display.HTML object>"
      ]
     },
     "metadata": {},
     "output_type": "display_data"
    },
    {
     "name": "stdout",
     "output_type": "stream",
     "text": [
      "\n"
     ]
    },
    {
     "data": {
      "text/html": [
       "<div class=\"tex2jax_ignore\" style=\"white-space: pre-wrap\">The <span style=\"padding: 2px; border-radius: 4px; border: 1px solid #d7ccc8; background: #efebe9\">Whitney Hotel<span style=\"vertical-align: middle; margin-left: 2px; font-size: 0.7em; color: #a1887f;\">FAC</span></span> is ideally located to see most of the sights of <span style=\"padding: 2px; border-radius: 4px; border: 1px solid #ffe0b2; background: #fff3e0\">New Orleans<span style=\"vertical-align: middle; margin-left: 2px; font-size: 0.7em; color: #ffb74d;\">GPE</span></span>. I would say it is a place to lay your head but I found the <span style=\"padding: 2px; border-radius: 4px; border: 1px solid #d7ccc8; background: #efebe9\">restaurant<span style=\"vertical-align: middle; margin-left: 2px; font-size: 0.7em; color: #a1887f;\">FAC</span></span> poor in terms of food choice and quality. The <span style=\"padding: 2px; border-radius: 4px; border: 1px solid #ffcdd2; background: #ffebee\">room phone<span style=\"vertical-align: middle; margin-left: 2px; font-size: 0.7em; color: #e57373;\">PRODUCT</span></span> did not work, no room service offered and the room can be noisy as it overlooks a major road. Overall, I think we can do better on my next trip to <span style=\"padding: 2px; border-radius: 4px; border: 1px solid #ffe0b2; background: #fff3e0\">New Orleans<span style=\"vertical-align: middle; margin-left: 2px; font-size: 0.7em; color: #ffb74d;\">GPE</span></span>.Thank you mentioning how you enjoyed the location and cleanliness of the <span style=\"padding: 2px; border-radius: 4px; border: 1px solid #d7ccc8; background: #efebe9\">Hotel<span style=\"vertical-align: middle; margin-left: 2px; font-size: 0.7em; color: #a1887f;\">FAC</span></span>, I&#x27;ll pass that information along. I&#x27;m sorry to hear about the <span style=\"padding: 2px; border-radius: 4px; border: 1px solid #ffcdd2; background: #ffebee\">telephone<span style=\"vertical-align: middle; margin-left: 2px; font-size: 0.7em; color: #e57373;\">PRODUCT</span></span> and will have Engineering test the line. On behalf of the Management of the restaurant, please accept my apologies. I&#x27;ll make sure they get a copy of this review. Thank you again for your candid comments and we&#x27;ll use this information to provide better services in the future. If we can be of any other assistance, please don&#x27;t hesitate to contact us. Sincerely, <span style=\"padding: 2px; border-radius: 4px; border: 1px solid #d1c4e9; background: #ede7f6\">Casey A<span style=\"vertical-align: middle; margin-left: 2px; font-size: 0.7em; color: #9575cd;\">PERSON(PII)</span></span>. CallaisGeneral Manager</div>"
      ],
      "text/plain": [
       "<IPython.core.display.HTML object>"
      ]
     },
     "metadata": {},
     "output_type": "display_data"
    },
    {
     "name": "stdout",
     "output_type": "stream",
     "text": [
      "\n"
     ]
    },
    {
     "data": {
      "text/html": [
       "<div class=\"tex2jax_ignore\" style=\"white-space: pre-wrap\">This is an old hotel in very good location. A <span style=\"padding: 2px; border-radius: 4px; border: 1px solid #c8e6c9; background: #e8f5e9\">5 minute<span style=\"vertical-align: middle; margin-left: 2px; font-size: 0.7em; color: #66bb6a;\">TIME</span></span> walk to <span style=\"padding: 2px; border-radius: 4px; border: 1px solid #d7ccc8; background: #efebe9\">Bourbon Street<span style=\"vertical-align: middle; margin-left: 2px; font-size: 0.7em; color: #a1887f;\">FAC</span></span> and <span style=\"padding: 2px; border-radius: 4px; border: 1px solid #d7ccc8; background: #efebe9\">Harrahs&#x27; Casino<span style=\"vertical-align: middle; margin-left: 2px; font-size: 0.7em; color: #a1887f;\">FAC</span></span>. A <span style=\"padding: 2px; border-radius: 4px; border: 1px solid #c8e6c9; background: #e8f5e9\">15 min<span style=\"vertical-align: middle; margin-left: 2px; font-size: 0.7em; color: #66bb6a;\">DATE</span></span> walk will get you to <span style=\"padding: 2px; border-radius: 4px; border: 1px solid #ffe0b2; background: #fff3e0\">Caffe DuMonde<span style=\"vertical-align: middle; margin-left: 2px; font-size: 0.7em; color: #ffb74d;\">ORG</span></span> and the <span style=\"padding: 2px; border-radius: 4px; border: 1px solid #ffe0b2; background: #fff3e0\">French Market<span style=\"vertical-align: middle; margin-left: 2px; font-size: 0.7em; color: #ffb74d;\">ORG</span></span>. Although old, the hotel is well kept and the staff is efficient. I found the <span style=\"padding: 2px; border-radius: 4px; border: 1px solid #d7ccc8; background: #efebe9\">room<span style=\"vertical-align: middle; margin-left: 2px; font-size: 0.7em; color: #a1887f;\">FAC</span></span> a little <span style=\"padding: 2px; border-radius: 4px; border: 1px solid #ffcdd2; background: #ffebee\">bit<span style=\"vertical-align: middle; margin-left: 2px; font-size: 0.7em; color: #e57373;\">QUANTITY</span></span> small, but confortable.Thank you for your recent stay at the <span style=\"padding: 2px; border-radius: 4px; border: 1px solid #d7ccc8; background: #efebe9\">Whitney Hotel<span style=\"vertical-align: middle; margin-left: 2px; font-size: 0.7em; color: #a1887f;\">FAC</span></span> in <span style=\"padding: 2px; border-radius: 4px; border: 1px solid #ffe0b2; background: #fff3e0\">New Orleans<span style=\"vertical-align: middle; margin-left: 2px; font-size: 0.7em; color: #ffb74d;\">GPE</span></span>! We&#x27;re glad to hear you enjoyed your visit and look forward to hosting you again soon. Please don&#x27;t hesitate to contact us directly for your next <span style=\"padding: 2px; border-radius: 4px; border: 1px solid #ffe0b2; background: #fff3e0\">New Orleans<span style=\"vertical-align: middle; margin-left: 2px; font-size: 0.7em; color: #ffb74d;\">GPE</span></span> get-a-way!Sincerely, <span style=\"padding: 2px; border-radius: 4px; border: 1px solid #d1c4e9; background: #ede7f6\">Casey A<span style=\"vertical-align: middle; margin-left: 2px; font-size: 0.7em; color: #9575cd;\">PERSON(PII)</span></span>. CallaisGeneral Manager</div>"
      ],
      "text/plain": [
       "<IPython.core.display.HTML object>"
      ]
     },
     "metadata": {},
     "output_type": "display_data"
    },
    {
     "name": "stdout",
     "output_type": "stream",
     "text": [
      "\n"
     ]
    },
    {
     "data": {
      "text/html": [
       "<div class=\"tex2jax_ignore\" style=\"white-space: pre-wrap\">The hotel is historic and yet modern. Full of history. The hotel is conveniently located in the heart of <span style=\"padding: 2px; border-radius: 4px; border: 1px solid #ffe0b2; background: #fff3e0\">New Orleans<span style=\"vertical-align: middle; margin-left: 2px; font-size: 0.7em; color: #ffb74d;\">GPE</span></span>. Blocks from the <span style=\"padding: 2px; border-radius: 4px; border: 1px solid #d1c4e9; background: #ede7f6\">French<span style=\"vertical-align: middle; margin-left: 2px; font-size: 0.7em; color: #9575cd;\">NORP</span></span> Quater and the <span style=\"padding: 2px; border-radius: 4px; border: 1px solid #d7ccc8; background: #efebe9\">Riverfront<span style=\"vertical-align: middle; margin-left: 2px; font-size: 0.7em; color: #a1887f;\">FAC</span></span>. The staff was very courtis and very knowledgeable. Always there to help get you where you want to be. Just <span style=\"padding: 2px; border-radius: 4px; border: 1px solid #bbdefb; background: #e3f2fd\">one<span style=\"vertical-align: middle; margin-left: 2px; font-size: 0.7em; color: #64b5f6;\">CARDINAL</span></span> block to Mothers <span style=\"padding: 2px; border-radius: 4px; border: 1px solid #bbdefb; background: #e3f2fd\">one<span style=\"vertical-align: middle; margin-left: 2px; font-size: 0.7em; color: #64b5f6;\">CARDINAL</span></span> of the local best restaurants. Totally enjoyed my stay On behalf of the staff at the <span style=\"padding: 2px; border-radius: 4px; border: 1px solid #d7ccc8; background: #efebe9\">Whitney Hotel<span style=\"vertical-align: middle; margin-left: 2px; font-size: 0.7em; color: #a1887f;\">FAC</span></span>, thank you so much for your recent visit and for the wonderful review. We&#x27;ll share your praise with our staff and sincerely hope we&#x27;ll get to see you again soon. Thank you, <span style=\"padding: 2px; border-radius: 4px; border: 1px solid #d1c4e9; background: #ede7f6\">Casey A<span style=\"vertical-align: middle; margin-left: 2px; font-size: 0.7em; color: #9575cd;\">PERSON(PII)</span></span>. CallaisGeneral Manager</div>"
      ],
      "text/plain": [
       "<IPython.core.display.HTML object>"
      ]
     },
     "metadata": {},
     "output_type": "display_data"
    },
    {
     "name": "stdout",
     "output_type": "stream",
     "text": [
      "\n"
     ]
    },
    {
     "data": {
      "text/html": [
       "<div class=\"tex2jax_ignore\" style=\"white-space: pre-wrap\">This hotel aptly named the <span style=\"padding: 2px; border-radius: 4px; border: 1px solid #d7ccc8; background: #efebe9\">Whitney Hotel<span style=\"vertical-align: middle; margin-left: 2px; font-size: 0.7em; color: #a1887f;\">FAC</span></span> as it was the location of the <span style=\"padding: 2px; border-radius: 4px; border: 1px solid #ffe0b2; background: #fff3e0\">Whitney Bank<span style=\"vertical-align: middle; margin-left: 2px; font-size: 0.7em; color: #ffb74d;\">ORG</span></span>.Several of the features of the bank era are there to be seen such as the strong room doors and related features.This hotel is in a very good location very close to local transportation - <span style=\"padding: 2px; border-radius: 4px; border: 1px solid #ffcdd2; background: #ffebee\">buses<span style=\"vertical-align: middle; margin-left: 2px; font-size: 0.7em; color: #e57373;\">PRODUCT</span></span> and <span style=\"padding: 2px; border-radius: 4px; border: 1px solid #ffcdd2; background: #ffebee\">streetcars<span style=\"vertical-align: middle; margin-left: 2px; font-size: 0.7em; color: #e57373;\">PRODUCT</span></span>.A short walk takes you to many places to eat, drink and shop.<span style=\"padding: 2px; border-radius: 4px; border: 1px solid #c8e6c9; background: #e8f5e9\">Less than ten minutes<span style=\"vertical-align: middle; margin-left: 2px; font-size: 0.7em; color: #66bb6a;\">TIME</span></span> walk to <span style=\"padding: 2px; border-radius: 4px; border: 1px solid #d7ccc8; background: #efebe9\">Canal Street<span style=\"vertical-align: middle; margin-left: 2px; font-size: 0.7em; color: #a1887f;\">FAC</span></span>, <span style=\"padding: 2px; border-radius: 4px; border: 1px solid #d7ccc8; background: #efebe9\">Bourbon Street<span style=\"vertical-align: middle; margin-left: 2px; font-size: 0.7em; color: #a1887f;\">FAC</span></span> and <span style=\"padding: 2px; border-radius: 4px; border: 1px solid #d7ccc8; background: #efebe9\">Royal Street<span style=\"vertical-align: middle; margin-left: 2px; font-size: 0.7em; color: #a1887f;\">FAC</span></span>.Pleasant ambience, friendly staff and comfortable rooms. We had a noisy air con and after underlining our concerns were moved to another room and provided with free on the house breakfast.The hotel has partnership with some eating/licensed businesses plus a <span style=\"padding: 2px; border-radius: 4px; border: 1px solid #bbdefb; background: #e3f2fd\">two<span style=\"vertical-align: middle; margin-left: 2px; font-size: 0.7em; color: #64b5f6;\">CARDINAL</span></span> for <span style=\"padding: 2px; border-radius: 4px; border: 1px solid #bbdefb; background: #e3f2fd\">one<span style=\"vertical-align: middle; margin-left: 2px; font-size: 0.7em; color: #64b5f6;\">CARDINAL</span></span> offer for <span style=\"padding: 2px; border-radius: 4px; border: 1px solid #ffe0b2; background: #fff3e0\">Mardi Gras World<span style=\"vertical-align: middle; margin-left: 2px; font-size: 0.7em; color: #ffb74d;\">ORG</span></span>.Thank you for your recent stay at the <span style=\"padding: 2px; border-radius: 4px; border: 1px solid #d7ccc8; background: #efebe9\">Whitney Hotel<span style=\"vertical-align: middle; margin-left: 2px; font-size: 0.7em; color: #a1887f;\">FAC</span></span> in <span style=\"padding: 2px; border-radius: 4px; border: 1px solid #ffe0b2; background: #fff3e0\">New Orleans<span style=\"vertical-align: middle; margin-left: 2px; font-size: 0.7em; color: #ffb74d;\">GPE</span></span>! We&#x27;re glad to hear you enjoyed your visit and look forward to hosting you again soon. Please don&#x27;t hesitate to contact us directly for your next <span style=\"padding: 2px; border-radius: 4px; border: 1px solid #ffe0b2; background: #fff3e0\">New Orleans<span style=\"vertical-align: middle; margin-left: 2px; font-size: 0.7em; color: #ffb74d;\">GPE</span></span> get-a-way!Sincerely, <span style=\"padding: 2px; border-radius: 4px; border: 1px solid #d1c4e9; background: #ede7f6\">Casey A. CallaisGeneral<span style=\"vertical-align: middle; margin-left: 2px; font-size: 0.7em; color: #9575cd;\">PERSON(PII)</span></span> Mana</div>"
      ],
      "text/plain": [
       "<IPython.core.display.HTML object>"
      ]
     },
     "metadata": {},
     "output_type": "display_data"
    },
    {
     "name": "stdout",
     "output_type": "stream",
     "text": [
      "\n"
     ]
    },
    {
     "data": {
      "text/html": [
       "<div class=\"tex2jax_ignore\" style=\"white-space: pre-wrap\">Such a beautiful hotel! LOVED the lobby and the bank vault. It was so unique and interesting. Our suite was so beautiful and very comfortable. We would like to thank the staff for taking such good care of us.Your knowledge of your wonderful city was so helpful. The <span style=\"padding: 2px; border-radius: 4px; border: 1px solid #d1c4e9; background: #ede7f6\">Russells<span style=\"vertical-align: middle; margin-left: 2px; font-size: 0.7em; color: #9575cd;\">PERSON(PII)</span></span> Thank you for your review of the <span style=\"padding: 2px; border-radius: 4px; border: 1px solid #d7ccc8; background: #efebe9\">Whitney Hotel<span style=\"vertical-align: middle; margin-left: 2px; font-size: 0.7em; color: #a1887f;\">FAC</span></span> in <span style=\"padding: 2px; border-radius: 4px; border: 1px solid #ffe0b2; background: #fff3e0\">New Orleans<span style=\"vertical-align: middle; margin-left: 2px; font-size: 0.7em; color: #ffb74d;\">GPE</span></span>! We&#x27;re so happy to hear you enjoyed your stay and we appreciate the feedback. If there is anything we can do to make your next visit to the Whitney better, please don&#x27;t hesitate to let us know. Thank you and we look forward to seeing you again soon!Sincerely, <span style=\"padding: 2px; border-radius: 4px; border: 1px solid #d1c4e9; background: #ede7f6\">Casey A. CallaisGeneral<span style=\"vertical-align: middle; margin-left: 2px; font-size: 0.7em; color: #9575cd;\">PERSON(PII)</span></span> Manager</div>"
      ],
      "text/plain": [
       "<IPython.core.display.HTML object>"
      ]
     },
     "metadata": {},
     "output_type": "display_data"
    },
    {
     "name": "stdout",
     "output_type": "stream",
     "text": [
      "\n"
     ]
    }
   ],
   "source": [
    "#View the sentences with the detected Named Entites.\n",
    "# no_of_sentences = len(result)\n",
    "no_of_sentences = 10\n",
    "DataTemp=Data\n",
    "for res in range(no_of_sentences):\n",
    "    spans=[]\n",
    "    show_sen=False\n",
    "    if show_PII:\n",
    "        for i in result[res].entities:\n",
    "            if i.is_pii:\n",
    "                show_sen=True\n",
    "                spans += [(i.offset, i.offset+i.length, i.type+\"(PII)\")]\n",
    "                temp_str = Data.Reviews[res][i.offset:i.offset+i.length]\n",
    "                DataTemp.Reviews[res] = DataTemp.Reviews[res].replace(temp_str, \"*\" * i.length)\n",
    "    else:\n",
    "        show_sen=True\n",
    "        for i in result[res].entities:\n",
    "            if i.is_pii:\n",
    "                spans += [(i.offset, i.offset+i.length, i.type+\"(PII)\")]\n",
    "            else:\n",
    "                spans += [(i.offset, i.offset+i.length, i.type)]\n",
    "    if show_sen:\n",
    "        if show_PII:\n",
    "            show_box_markup(DataTemp.Reviews[res], spans)\n",
    "        else:\n",
    "            show_box_markup(Data.Reviews[res], spans)\n",
    "        print()"
   ]
  },
  {
   "cell_type": "code",
   "execution_count": 85,
   "id": "terminal-surgery",
   "metadata": {},
   "outputs": [],
   "source": [
    "# build out a data frame of all the named entities and their types\n",
    "no_of_sentences = len(result)\n",
    "# no_of_sentences = 1\n",
    "named_entities=[]\n",
    "for res in range(no_of_sentences):\n",
    "    spans=[]\n",
    "    for i in result[res].entities:\n",
    "        temp_named_entity = (i.text, i.type)\n",
    "        named_entities.append(temp_named_entity)\n",
    "entity_frame = pd.DataFrame(named_entities, \n",
    "                            columns=['Entity Name', 'Entity Type'])"
   ]
  },
  {
   "cell_type": "code",
   "execution_count": 86,
   "id": "bigger-cocktail",
   "metadata": {},
   "outputs": [],
   "source": [
    "# transform and aggregate the data frame to find the top occuring entities and types.\n",
    "top_entities = (entity_frame.groupby(by=['Entity Name', 'Entity Type'])\n",
    "                           .size()\n",
    "                           .sort_values(ascending=False)\n",
    "                           .reset_index().rename(columns={0 : 'Frequency'}))"
   ]
  },
  {
   "cell_type": "code",
   "execution_count": null,
   "id": "quick-yahoo",
   "metadata": {},
   "outputs": [],
   "source": [
    "no_of_top_entities=15\n",
    "top_entities.iloc[:no_of_top_entities,:]"
   ]
  },
  {
   "cell_type": "code",
   "execution_count": null,
   "id": "expanded-potato",
   "metadata": {},
   "outputs": [],
   "source": [
    "# transform and aggregate the data frame to find the top occuring entities types.\n",
    "top_entities = (entity_frame.groupby(by=['Entity Type'])\n",
    "                           .size()\n",
    "                           .sort_values(ascending=False)\n",
    "                           .reset_index().rename(columns={0 : 'Frequency'}))"
   ]
  },
  {
   "cell_type": "code",
   "execution_count": null,
   "id": "under-looking",
   "metadata": {},
   "outputs": [],
   "source": [
    "no_of_top_entities = top_entities['Entity Type'].size\n",
    "top_entities.iloc[:no_of_top_entities,:]"
   ]
  },
  {
   "cell_type": "code",
   "execution_count": null,
   "id": "unlike-first",
   "metadata": {},
   "outputs": [],
   "source": [
    "# Horizontal Bar Plot\n",
    "fig = plt.figure(figsize =(15, 7))\n",
    "plt.bar(top_entities['Entity Type'], top_entities['Frequency'])\n",
    "# Show Plot\n",
    "plt.show()"
   ]
  }
 ],
 "metadata": {
  "kernelspec": {
   "display_name": "Python 3",
   "language": "python",
   "name": "python3"
  },
  "language_info": {
   "codemirror_mode": {
    "name": "ipython",
    "version": 3
   },
   "file_extension": ".py",
   "mimetype": "text/x-python",
   "name": "python",
   "nbconvert_exporter": "python",
   "pygments_lexer": "ipython3",
   "version": "3.6.10"
  }
 },
 "nbformat": 4,
 "nbformat_minor": 5
}
