{
 "cells": [
  {
   "cell_type": "markdown",
   "id": "9d8719d9",
   "metadata": {},
   "source": [
    "### OCI Data Science - Useful Tips\n",
    "<details>\n",
    "<summary><font size=\"2\">Check for Public Internet Access</font></summary>\n",
    "\n",
    "```python\n",
    "import requests\n",
    "response = requests.get(\"https://oracle.com\")\n",
    "assert response.status_code==200, \"Internet connection failed\"\n",
    "```\n",
    "</details>\n",
    "<details>\n",
    "<summary><font size=\"2\">Helpful Documentation </font></summary>\n",
    "<ul><li><a href=\"https://docs.cloud.oracle.com/en-us/iaas/data-science/using/data-science.htm\">Data Science Service Documentation</a></li>\n",
    "<li><a href=\"https://docs.cloud.oracle.com/iaas/tools/ads-sdk/latest/index.html\">ADS documentation</a></li>\n",
    "</ul>\n",
    "</details>\n",
    "<details>\n",
    "<summary><font size=\"2\">Typical Cell Imports and Settings for ADS</font></summary>\n",
    "\n",
    "```python\n",
    "%load_ext autoreload\n",
    "%autoreload 2\n",
    "%matplotlib inline\n",
    "\n",
    "import warnings\n",
    "warnings.filterwarnings('ignore')\n",
    "\n",
    "import logging\n",
    "logging.basicConfig(format='%(levelname)s:%(message)s', level=logging.ERROR)\n",
    "\n",
    "import ads\n",
    "from ads.dataset.factory import DatasetFactory\n",
    "from ads.automl.provider import OracleAutoMLProvider\n",
    "from ads.automl.driver import AutoML\n",
    "from ads.evaluations.evaluator import ADSEvaluator\n",
    "from ads.common.data import ADSData\n",
    "from ads.explanations.explainer import ADSExplainer\n",
    "from ads.explanations.mlx_global_explainer import MLXGlobalExplainer\n",
    "from ads.explanations.mlx_local_explainer import MLXLocalExplainer\n",
    "from ads.catalog.model import ModelCatalog\n",
    "from ads.common.model_artifact import ModelArtifact\n",
    "```\n",
    "</details>\n",
    "<details>\n",
    "<summary><font size=\"2\">Useful Environment Variables</font></summary>\n",
    "\n",
    "```python\n",
    "import os\n",
    "print(os.environ[\"NB_SESSION_COMPARTMENT_OCID\"])\n",
    "print(os.environ[\"PROJECT_OCID\"])\n",
    "print(os.environ[\"USER_OCID\"])\n",
    "print(os.environ[\"TENANCY_OCID\"])\n",
    "print(os.environ[\"NB_REGION\"])\n",
    "```\n",
    "</details>"
   ]
  },
  {
   "cell_type": "code",
   "execution_count": null,
   "id": "b862109e",
   "metadata": {},
   "outputs": [],
   "source": [
    "# In this notebook, you will learn to call OCI Language from a Data Science Notebook, and how to do analysis on the data.\n",
    "# More specifically, in this exercise you will ingest a set of hotel reviews, use OCI Language to identify the aspects sentiment in those reviews.\n",
    "# You will not need to write any code from scratch, but we expect you to read the code and understand what we are doing. You can click Shift+Enter on each cell to run the code in the cell."
   ]
  },
  {
   "cell_type": "code",
   "execution_count": null,
   "id": "59fe3ef5",
   "metadata": {},
   "outputs": [],
   "source": [
    "# Installing required libraries\n",
    "!pip install pandas\n",
    "!pip install ipymarkup\n",
    "!pip install matplotlib\n",
    "!pip install wordcloud"
   ]
  },
  {
   "cell_type": "code",
   "execution_count": null,
   "id": "e75b1a46",
   "metadata": {},
   "outputs": [],
   "source": [
    "import oci\n",
    "import pandas as pd\n",
    "from ipymarkup import show_ascii_markup\n",
    "from ipymarkup import show_box_markup\n",
    "from ipymarkup.palette import palette, GREEN, BLUE, RED\n",
    "from matplotlib import pyplot as plt"
   ]
  },
  {
   "cell_type": "markdown",
   "id": "85623dd2",
   "metadata": {},
   "source": [
    "# Read the data file"
   ]
  },
  {
   "cell_type": "code",
   "execution_count": null,
   "id": "df9ca7c4",
   "metadata": {},
   "outputs": [],
   "source": [
    "AllHotelData = pd.read_csv('Data.csv')"
   ]
  },
  {
   "cell_type": "code",
   "execution_count": null,
   "id": "acf9b081",
   "metadata": {},
   "outputs": [],
   "source": [
    "hotelNames = AllHotelData['name'].unique()\n",
    "for hotel in hotelNames:\n",
    "    print(hotel)"
   ]
  },
  {
   "cell_type": "markdown",
   "id": "600ab673",
   "metadata": {},
   "source": [
    "# Enter Hotel Name you want to analyze"
   ]
  },
  {
   "cell_type": "code",
   "execution_count": null,
   "id": "664ba641",
   "metadata": {},
   "outputs": [],
   "source": [
    "#Enter Hotel Name you want to analyze\n",
    "hotelName = \"Best Western Seven Seas\""
   ]
  },
  {
   "cell_type": "code",
   "execution_count": null,
   "id": "31b7717c",
   "metadata": {},
   "outputs": [],
   "source": [
    "HotelData = AllHotelData[AllHotelData['name']==hotelName]\n",
    "Data = HotelData[['Reviews','reviews.date']].reset_index()"
   ]
  },
  {
   "cell_type": "code",
   "execution_count": null,
   "id": "4b759b29",
   "metadata": {},
   "outputs": [],
   "source": [
    "# Create Language service client with user config default values.\n",
    "ai_client = oci.ai_language.AIServiceLanguageClient(oci.config.from_file())"
   ]
  },
  {
   "cell_type": "markdown",
   "id": "4c44df61",
   "metadata": {},
   "source": [
    "## For every review call language sentiment and get the Aspect with their Polarity"
   ]
  },
  {
   "cell_type": "code",
   "execution_count": null,
   "id": "c96ee4c5",
   "metadata": {},
   "outputs": [],
   "source": [
    "#Detect Sentiment\n",
    "data_with_result=[]\n",
    "result=[]\n",
    "\n",
    "for data in range(Data['Reviews'].size):\n",
    "    try:\n",
    "        detect_language_sentiments_details = oci.ai_language.models.DetectLanguageSentimentsDetails(text=Data['Reviews'][data])\n",
    "        output = ai_client.detect_language_sentiments(detect_language_sentiments_details)\n",
    "#         result[0] += [output.data]\n",
    "#         result[1] += [Data['reviews.date'][data]]\n",
    "        Dict = {'Result':output.data, 'Date':Data['reviews.date'][data]}\n",
    "        result.append(Dict)\n",
    "    except oci.exceptions.ServiceError as e:\n",
    "        print(\"Something went wrong\")\n",
    "    "
   ]
  },
  {
   "cell_type": "markdown",
   "id": "61fb2c99",
   "metadata": {},
   "source": [
    "## View the sentence with detected aspect and their polarity"
   ]
  },
  {
   "cell_type": "code",
   "execution_count": null,
   "id": "202b5769",
   "metadata": {},
   "outputs": [],
   "source": [
    "#View the sentences with the detected Named Entites.\n",
    "# no_of_sentences = len(result)\n",
    "no_of_sentences = 5\n",
    "for sen in range(no_of_sentences):\n",
    "    spans=[]\n",
    "    for res in result[sen]['Result'].aspects:\n",
    "        spans += [(res.offset, res.offset+res.length, res.sentiment)]\n",
    "    show_box_markup(Data['Reviews'][sen], spans, palette=palette(Positvie=GREEN, Negative=RED, Neutral=BLUE))\n",
    "    print()"
   ]
  },
  {
   "cell_type": "code",
   "execution_count": null,
   "id": "5286719d",
   "metadata": {},
   "outputs": [],
   "source": [
    "# build out a data frame of all the aspects and their sentiments\n",
    "no_of_sentences = len(result)\n",
    "# no_of_sentences = 1\n",
    "aspects=[]\n",
    "for res in range(no_of_sentences):\n",
    "    for i in result[res]['Result'].aspects:\n",
    "        temp_aspects = (i.text, i.sentiment, i.scores, result[res]['Date'])\n",
    "        aspects.append(temp_aspects)\n",
    "aspects_frame = pd.DataFrame(aspects, \n",
    "                            columns=['Aspect', 'Sentiment', 'Score', 'Date'])"
   ]
  },
  {
   "cell_type": "markdown",
   "id": "b345e184",
   "metadata": {},
   "source": [
    "## Get the top-10 aspect w.r.t frequency of their occurance"
   ]
  },
  {
   "cell_type": "code",
   "execution_count": null,
   "id": "fe9a1daf",
   "metadata": {},
   "outputs": [],
   "source": [
    "# transform and aggregate the data frame to find the top occuring Aspects and Sentiments.\n",
    "top_aspects = (aspects_frame.groupby(by=['Aspect'])\n",
    "                           .size()\n",
    "                           .sort_values(ascending=False)\n",
    "                           .reset_index().rename(columns={0 : 'Frequency'}))\n",
    "no_of_top_aspects=10\n",
    "top_aspects.iloc[:no_of_top_aspects,:]"
   ]
  },
  {
   "cell_type": "markdown",
   "id": "961d7473",
   "metadata": {},
   "source": [
    "## Plot the polarity graph for top aspect"
   ]
  },
  {
   "cell_type": "code",
   "execution_count": null,
   "id": "88be46a4",
   "metadata": {},
   "outputs": [],
   "source": [
    "#Plotting the rating of top aspects detected.\n",
    "plt.figure(figsize=(18,10))\n",
    "all_top_aspects=[]\n",
    "no_of_top_aspects=9\n",
    "for i in range(no_of_top_aspects):\n",
    "    asp = top_aspects.iloc[i]['Aspect']\n",
    "    temp = aspects_frame[aspects_frame['Aspect']==top_aspects.iloc[i]['Aspect']]\n",
    "    tot_count = temp.count().Aspect\n",
    "    exce = temp[temp['Sentiment']=='Positive'].count().Aspect/tot_count\n",
    "    poor = temp[temp['Sentiment']=='Negative'].count().Aspect/tot_count\n",
    "    avrg = temp[temp['Sentiment']=='Neutral'].count().Aspect/tot_count\n",
    "    plt.subplot(5, 3, i+1)\n",
    "    y=['Poor', 'Average', 'Excelent']\n",
    "    x=[poor,avrg,exce]\n",
    "    plt.barh(y, x, color=['red', 'grey', 'green'])\n",
    "    plt.xlabel(\"Rating\") \n",
    "    plt.title(asp)\n",
    "plt.tight_layout(pad=3.0)\n",
    "plt.show()"
   ]
  },
  {
   "cell_type": "code",
   "execution_count": null,
   "id": "fa64fcb8",
   "metadata": {},
   "outputs": [],
   "source": [
    "## Get the top aspect with polarity"
   ]
  },
  {
   "cell_type": "code",
   "execution_count": null,
   "id": "fdf79425",
   "metadata": {},
   "outputs": [],
   "source": [
    "# transform and aggregate the data frame to find the top occuring Aspects and Sentiments.\n",
    "top_aspects = (aspects_frame.groupby(by=['Aspect', 'Sentiment'])\n",
    "                           .size()\n",
    "                           .sort_values(ascending=False)\n",
    "                           .reset_index().rename(columns={0 : 'Frequency'}))\n",
    "no_of_top_aspects=10\n",
    "top_aspects.iloc[:no_of_top_aspects,:]"
   ]
  },
  {
   "cell_type": "markdown",
   "id": "1eb2bca2",
   "metadata": {},
   "source": [
    "## Get the top 5 aspect with positive polarity"
   ]
  },
  {
   "cell_type": "code",
   "execution_count": null,
   "id": "1be2abab",
   "metadata": {},
   "outputs": [],
   "source": [
    "#Top Positive Aspects\n",
    "no_of_top_aspects=5\n",
    "top_aspects_positive = top_aspects[top_aspects['Sentiment'] == 'Positive']\n",
    "top_aspects_positive.iloc[:no_of_top_aspects,:]"
   ]
  },
  {
   "cell_type": "markdown",
   "id": "05c17418",
   "metadata": {},
   "source": [
    "## Get the top 5 aspect with negative polarity"
   ]
  },
  {
   "cell_type": "code",
   "execution_count": null,
   "id": "4b49c5d7",
   "metadata": {},
   "outputs": [],
   "source": [
    "#Top Negative Aspects\n",
    "no_of_top_aspects=5\n",
    "top_aspects_negative = top_aspects[top_aspects['Sentiment'] == 'Negative']\n",
    "top_aspects_negative.iloc[:no_of_top_aspects,:]"
   ]
  },
  {
   "cell_type": "markdown",
   "id": "6543048d",
   "metadata": {},
   "source": [
    "## View the wordcloud with positive and negative aspect"
   ]
  },
  {
   "cell_type": "code",
   "execution_count": null,
   "id": "b2363940",
   "metadata": {},
   "outputs": [],
   "source": [
    "content_pos=''\n",
    "content_neg=''\n",
    "for i in top_aspects_positive['Aspect'][0:len(top_aspects_positive['Aspect'])+1]:\n",
    "    content_pos = content_pos + i + \" \"\n",
    "for i in top_aspects_negative['Aspect'][0:len(top_aspects_negative['Aspect'])+1]:\n",
    "    content_neg = content_neg + i + \" \""
   ]
  },
  {
   "cell_type": "code",
   "execution_count": null,
   "id": "2a2a502b",
   "metadata": {},
   "outputs": [],
   "source": [
    "colour_dict = {\n",
    "    'green':140,\n",
    "    'blue': 220,\n",
    "    'red': 20\n",
    "}\n",
    "def red_fn(word=None, font_size=None, position=None,  orientation=None, font_path=None, random_state=None):\n",
    "    h = int(colour_dict['red'])\n",
    "    s = int(100.0 * 255.0 / 255.0)\n",
    "    l = int(100.0 * float(random_state.randint(60, 120)) / 255.0)\n",
    "    return \"hsl({}, {}%, {}%)\".format(h, s, l)\n",
    "def green_fn(word=None, font_size=None, position=None,  orientation=None, font_path=None, random_state=None):\n",
    "    h = int(colour_dict['green'])\n",
    "    s = int(100.0 * 255.0 / 255.0)\n",
    "    l = int(100.0 * float(random_state.randint(60, 120)) / 255.0)\n",
    "    return \"hsl({}, {}%, {}%)\".format(h, s, l)"
   ]
  },
  {
   "cell_type": "code",
   "execution_count": null,
   "id": "1e4ba725",
   "metadata": {},
   "outputs": [],
   "source": [
    "#Plotting Word Cloud\n",
    "from wordcloud import WordCloud, STOPWORDS\n",
    "wordcloud_pos = WordCloud(max_font_size=50, max_words=100, background_color=\"white\",color_func= green_fn).generate(content_pos)\n",
    "wordcloud_neg = WordCloud(max_font_size=50, max_words=100, background_color=\"white\",color_func= red_fn).generate(content_neg)\n",
    "plt.figure(figsize=(17,14))\n",
    "# plt.figure()\n",
    "plt.subplot(1, 2, 1)\n",
    "plt.title(\"Positive Aspects\")\n",
    "plt.imshow(wordcloud_pos, interpolation=\"bilinear\")\n",
    "plt.axis(\"off\")\n",
    "plt.subplot(1, 2, 2)\n",
    "plt.title(\"Negative Aspects\")\n",
    "plt.imshow(wordcloud_neg, interpolation=\"bilinear\")\n",
    "plt.axis(\"off\")\n",
    "plt.show()"
   ]
  },
  {
   "cell_type": "code",
   "execution_count": null,
   "id": "a42cf7d1",
   "metadata": {},
   "outputs": [],
   "source": []
  }
 ],
 "metadata": {
  "kernelspec": {
   "display_name": "Python 3",
   "language": "python",
   "name": "python3"
  },
  "language_info": {
   "codemirror_mode": {
    "name": "ipython",
    "version": 3
   },
   "file_extension": ".py",
   "mimetype": "text/x-python",
   "name": "python",
   "nbconvert_exporter": "python",
   "pygments_lexer": "ipython3",
   "version": "3.6.12"
  }
 },
 "nbformat": 4,
 "nbformat_minor": 5
}
